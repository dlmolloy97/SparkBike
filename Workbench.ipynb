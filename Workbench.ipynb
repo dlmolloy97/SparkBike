{
 "cells": [
  {
   "cell_type": "markdown",
   "metadata": {
    "pycharm": {
     "name": "#%% md\n"
    },
    "tags": []
   },
   "source": [
    "# Workbench\n",
    "\n",
    "The goal of this project is to develop a PyShiny app capable of visualising the following for a selected neighbourhood of Boston, MA:\n",
    "\n",
    "1. The most common **destination** for cyclists renting a BlueBike in that neighbourhood\n",
    "2. The most common **origin** for cyclists who rented a BlueBike elsewhere, and finished their journey in the selected neighborhood\n",
    "3. Over the course of the day, the times at which the most cyclists *arrived* in the neighbourhood by bicycle\n",
    "4. Over the course of the day, the times at which the most cyclists *departed* the neighbourhood by bicycle\n",
    "\n",
    "Ideally, the following variables will be selectable in the user input:\n",
    "- The neighbourhood\n",
    "- The direction (inbound vs. outbound)\n",
    "\n",
    "The data processing will be carried out using a local instance of PySpark"
   ]
  },
  {
   "cell_type": "markdown",
   "metadata": {
    "tags": []
   },
   "source": [
    "## 1. Data engineering and processing\n",
    "### 1. Setting up Spark"
   ]
  },
  {
   "cell_type": "markdown",
   "metadata": {
    "pycharm": {
     "name": "#%% md\n"
    }
   },
   "source": [
    "We start by setting up a PySpark cluster"
   ]
  },
  {
   "cell_type": "code",
   "execution_count": 1,
   "metadata": {
    "pycharm": {
     "name": "#%%\n"
    }
   },
   "outputs": [
    {
     "name": "stderr",
     "output_type": "stream",
     "text": [
      "Setting default log level to \"WARN\".\n",
      "To adjust logging level use sc.setLogLevel(newLevel). For SparkR, use setLogLevel(newLevel).\n"
     ]
    },
    {
     "name": "stdout",
     "output_type": "stream",
     "text": [
      "23/01/06 20:31:26 WARN NativeCodeLoader: Unable to load native-hadoop library for your platform... using builtin-java classes where applicable\n",
      "23/01/06 20:31:28 WARN Utils: Service 'SparkUI' could not bind on port 4040. Attempting port 4041.\n"
     ]
    }
   ],
   "source": [
    "#Reference: https://sparkbyexamples.com/spark/how-to-create-a-sparksession-and-spark-context/\n",
    "import pyspark\n",
    "from pyspark.sql import SparkSession\n",
    "spark = SparkSession.builder.master(\"local[1]\") \\\n",
    "                    .appName('SparkByExamples.com') \\\n",
    "                    .getOrCreate()"
   ]
  },
  {
   "cell_type": "markdown",
   "metadata": {
    "pycharm": {
     "name": "#%% md\n"
    }
   },
   "source": [
    "We then check that it runs correctly"
   ]
  },
  {
   "cell_type": "code",
   "execution_count": 2,
   "metadata": {
    "pycharm": {
     "name": "#%%\n"
    }
   },
   "outputs": [
    {
     "name": "stdout",
     "output_type": "stream",
     "text": [
      "First SparkContext:\n",
      "APP Name :SparkByExamples.com\n",
      "Master :local[1]\n"
     ]
    }
   ],
   "source": [
    "print(\"First SparkContext:\");\n",
    "print(\"APP Name :\"+spark.sparkContext.appName);\n",
    "print(\"Master :\"+spark.sparkContext.master);"
   ]
  },
  {
   "cell_type": "markdown",
   "metadata": {
    "tags": []
   },
   "source": [
    "### 2. Developing the BlueBike data access code locally\n",
    "\n",
    "#### 1. Ridership data\n",
    "First, we configure the environment zip path variables\n",
    "\n",
    "The first approach was not successful"
   ]
  },
  {
   "cell_type": "markdown",
   "metadata": {
    "pycharm": {
     "name": "#%% md\n"
    }
   },
   "source": [
    "It was necessary to use the load_dotenv package:"
   ]
  },
  {
   "cell_type": "code",
   "execution_count": 3,
   "metadata": {
    "pycharm": {
     "name": "#%%\n"
    }
   },
   "outputs": [
    {
     "name": "stdout",
     "output_type": "stream",
     "text": [
      "data/202211-bluebikes-tripdata.zip\n"
     ]
    }
   ],
   "source": [
    "#Location: https://stackoverflow.com/questions/63019506/python-get-value-of-env-variable-from-a-specific-env-file\n",
    "from dotenv import load_dotenv\n",
    "load_dotenv()\n",
    "import os\n",
    "x = os.getenv(\"zip_path\")\n",
    "print(x)"
   ]
  },
  {
   "cell_type": "markdown",
   "metadata": {},
   "source": [
    "Next, we download and unzip the file:"
   ]
  },
  {
   "cell_type": "code",
   "execution_count": 4,
   "metadata": {},
   "outputs": [
    {
     "name": "stdout",
     "output_type": "stream",
     "text": [
      "--2023-01-06 20:31:29--  https://s3.amazonaws.com/hubway-data/202211-bluebikes-tripdata.zip\n",
      "Resolving s3.amazonaws.com (s3.amazonaws.com)... 52.216.84.27, 52.216.146.189, 52.216.250.142, ...\n",
      "Connecting to s3.amazonaws.com (s3.amazonaws.com)|52.216.84.27|:443... connected.\n",
      "HTTP request sent, awaiting response... 200 OK\n",
      "Length: 12145938 (12M) [application/zip]\n",
      "Saving to: 'data/202211-bluebikes-tripdata.zip.5'\n",
      "\n",
      "202211-bluebikes-tr 100%[===================>]  11.58M  3.32MB/s    in 3.9s    \n",
      "\n",
      "2023-01-06 20:31:34 (2.98 MB/s) - 'data/202211-bluebikes-tripdata.zip.5' saved [12145938/12145938]\n",
      "\n"
     ]
    }
   ],
   "source": [
    "! wget https://s3.amazonaws.com/hubway-data/202211-bluebikes-tripdata.zip -P data/\n"
   ]
  },
  {
   "cell_type": "code",
   "execution_count": 5,
   "metadata": {},
   "outputs": [],
   "source": [
    "#https://stackoverflow.com/questions/3451111/unzipping-files-in-python\n",
    "import zipfile\n",
    "with zipfile.ZipFile(os.getenv(\"zip_path\"), 'r') as zip_ref:\n",
    "    zip_ref.extractall(\"data/\")"
   ]
  },
  {
   "cell_type": "markdown",
   "metadata": {},
   "source": [
    "Inspecting the data:"
   ]
  },
  {
   "cell_type": "code",
   "execution_count": 6,
   "metadata": {},
   "outputs": [
    {
     "name": "stderr",
     "output_type": "stream",
     "text": [
      "                                                                                \r"
     ]
    },
    {
     "name": "stdout",
     "output_type": "stream",
     "text": [
      "root\n",
      " |-- tripduration: string (nullable = true)\n",
      " |-- starttime: string (nullable = true)\n",
      " |-- stoptime: string (nullable = true)\n",
      " |-- start station id: string (nullable = true)\n",
      " |-- start station name: string (nullable = true)\n",
      " |-- start station latitude: string (nullable = true)\n",
      " |-- start station longitude: string (nullable = true)\n",
      " |-- end station id: string (nullable = true)\n",
      " |-- end station name: string (nullable = true)\n",
      " |-- end station latitude: string (nullable = true)\n",
      " |-- end station longitude: string (nullable = true)\n",
      " |-- bikeid: string (nullable = true)\n",
      " |-- usertype: string (nullable = true)\n",
      " |-- postal code: string (nullable = true)\n",
      "\n"
     ]
    },
    {
     "data": {
      "text/plain": [
       "Row(tripduration='803', starttime='2022-11-01 00:00:04.9940', stoptime='2022-11-01 00:13:28.6550', start station id='46', start station name='Christian Science Plaza - Massachusetts Ave at Westland Ave', start station latitude='42.3436658245146', start station longitude='-71.08582377433777', end station id='472', end station name='MIT Hayward St at Amherst St', end station latitude='42.36085937353302', end station longitude='-71.08551858007559', bikeid='2088', usertype='Subscriber', postal code='02142')"
      ]
     },
     "execution_count": 6,
     "metadata": {},
     "output_type": "execute_result"
    }
   ],
   "source": [
    "df = spark.read.csv(\"data/202211-bluebikes-tripdata.csv\", header=True)\n",
    "df.printSchema()\n",
    "df.head()"
   ]
  },
  {
   "cell_type": "markdown",
   "metadata": {},
   "source": [
    "#### 2. Station data\n",
    "It was also necessary to match the stations with Boston's various neighbourhoods.\n"
   ]
  },
  {
   "cell_type": "code",
   "execution_count": 7,
   "metadata": {},
   "outputs": [],
   "source": [
    "import pyogrio"
   ]
  },
  {
   "cell_type": "code",
   "execution_count": 8,
   "metadata": {},
   "outputs": [
    {
     "data": {
      "text/html": [
       "<div>\n",
       "<style scoped>\n",
       "    .dataframe tbody tr th:only-of-type {\n",
       "        vertical-align: middle;\n",
       "    }\n",
       "\n",
       "    .dataframe tbody tr th {\n",
       "        vertical-align: top;\n",
       "    }\n",
       "\n",
       "    .dataframe thead th {\n",
       "        text-align: right;\n",
       "    }\n",
       "</style>\n",
       "<table border=\"1\" class=\"dataframe\">\n",
       "  <thead>\n",
       "    <tr style=\"text-align: right;\">\n",
       "      <th></th>\n",
       "      <th>Number</th>\n",
       "      <th>Name</th>\n",
       "      <th>Latitude</th>\n",
       "      <th>Longitude</th>\n",
       "      <th>District</th>\n",
       "      <th>Public</th>\n",
       "      <th>Total docks</th>\n",
       "      <th>Deployment Year</th>\n",
       "    </tr>\n",
       "  </thead>\n",
       "  <tbody>\n",
       "    <tr>\n",
       "      <th>0</th>\n",
       "      <td>K32015</td>\n",
       "      <td>1200 Beacon St</td>\n",
       "      <td>42.344149</td>\n",
       "      <td>-71.114674</td>\n",
       "      <td>Brookline</td>\n",
       "      <td>Yes</td>\n",
       "      <td>15</td>\n",
       "      <td>2021.0</td>\n",
       "    </tr>\n",
       "    <tr>\n",
       "      <th>1</th>\n",
       "      <td>W32006</td>\n",
       "      <td>160 Arsenal</td>\n",
       "      <td>42.364664</td>\n",
       "      <td>-71.175694</td>\n",
       "      <td>Watertown</td>\n",
       "      <td>Yes</td>\n",
       "      <td>11</td>\n",
       "      <td>2021.0</td>\n",
       "    </tr>\n",
       "    <tr>\n",
       "      <th>2</th>\n",
       "      <td>A32019</td>\n",
       "      <td>175 N Harvard St</td>\n",
       "      <td>42.363796</td>\n",
       "      <td>-71.129164</td>\n",
       "      <td>Boston</td>\n",
       "      <td>Yes</td>\n",
       "      <td>17</td>\n",
       "      <td>2014.0</td>\n",
       "    </tr>\n",
       "    <tr>\n",
       "      <th>3</th>\n",
       "      <td>S32035</td>\n",
       "      <td>191 Beacon St</td>\n",
       "      <td>42.380323</td>\n",
       "      <td>-71.108786</td>\n",
       "      <td>Somerville</td>\n",
       "      <td>Yes</td>\n",
       "      <td>19</td>\n",
       "      <td>2018.0</td>\n",
       "    </tr>\n",
       "    <tr>\n",
       "      <th>4</th>\n",
       "      <td>C32094</td>\n",
       "      <td>2 Hummingbird Lane at Olmsted Green</td>\n",
       "      <td>42.288870</td>\n",
       "      <td>-71.095003</td>\n",
       "      <td>Boston</td>\n",
       "      <td>Yes</td>\n",
       "      <td>17</td>\n",
       "      <td>2020.0</td>\n",
       "    </tr>\n",
       "  </tbody>\n",
       "</table>\n",
       "</div>"
      ],
      "text/plain": [
       "   Number                                 Name   Latitude  Longitude  \\\n",
       "0  K32015                       1200 Beacon St  42.344149 -71.114674   \n",
       "1  W32006                          160 Arsenal  42.364664 -71.175694   \n",
       "2  A32019                     175 N Harvard St  42.363796 -71.129164   \n",
       "3  S32035                        191 Beacon St  42.380323 -71.108786   \n",
       "4  C32094  2 Hummingbird Lane at Olmsted Green  42.288870 -71.095003   \n",
       "\n",
       "     District Public  Total docks  Deployment Year  \n",
       "0   Brookline    Yes           15           2021.0  \n",
       "1   Watertown    Yes           11           2021.0  \n",
       "2      Boston    Yes           17           2014.0  \n",
       "3  Somerville    Yes           19           2018.0  \n",
       "4      Boston    Yes           17           2020.0  "
      ]
     },
     "execution_count": 8,
     "metadata": {},
     "output_type": "execute_result"
    }
   ],
   "source": [
    "import pandas as pd\n",
    "pd.read_csv(os.getenv(\"station_path\"), header=1).head()"
   ]
  },
  {
   "cell_type": "code",
   "execution_count": 9,
   "metadata": {},
   "outputs": [
    {
     "name": "stderr",
     "output_type": "stream",
     "text": [
      "/var/folders/63/7wfwn_sn3cv5zpj5dk7k9r3r0000gn/T/ipykernel_9090/4022856104.py:2: UserWarning: Shapely 2.0 is installed, but because PyGEOS is also installed, GeoPandas will still use PyGEOS by default for now. To force to use and test Shapely 2.0, you have to set the environment variable USE_PYGEOS=0. You can do this before starting the Python process, or in your code before importing geopandas:\n",
      "\n",
      "import os\n",
      "os.environ['USE_PYGEOS'] = '0'\n",
      "import geopandas\n",
      "\n",
      "In a future release, GeoPandas will switch to using Shapely by default. If you are using PyGEOS directly (calling PyGEOS functions on geometries from GeoPandas), this will then stop working and you are encouraged to migrate from PyGEOS to Shapely 2.0 (https://shapely.readthedocs.io/en/latest/migration_pygeos.html).\n",
      "  from geopandas import datasets, GeoDataFrame, read_file\n"
     ]
    },
    {
     "data": {
      "text/html": [
       "<div>\n",
       "<style scoped>\n",
       "    .dataframe tbody tr th:only-of-type {\n",
       "        vertical-align: middle;\n",
       "    }\n",
       "\n",
       "    .dataframe tbody tr th {\n",
       "        vertical-align: top;\n",
       "    }\n",
       "\n",
       "    .dataframe thead th {\n",
       "        text-align: right;\n",
       "    }\n",
       "</style>\n",
       "<table border=\"1\" class=\"dataframe\">\n",
       "  <thead>\n",
       "    <tr style=\"text-align: right;\">\n",
       "      <th></th>\n",
       "      <th>Number</th>\n",
       "      <th>Name</th>\n",
       "      <th>Latitude</th>\n",
       "      <th>Longitude</th>\n",
       "      <th>District</th>\n",
       "      <th>Public</th>\n",
       "      <th>Total docks</th>\n",
       "      <th>Deployment Year</th>\n",
       "      <th>geometry</th>\n",
       "    </tr>\n",
       "  </thead>\n",
       "  <tbody>\n",
       "    <tr>\n",
       "      <th>0</th>\n",
       "      <td>K32015</td>\n",
       "      <td>1200 Beacon St</td>\n",
       "      <td>42.344149</td>\n",
       "      <td>-71.114674</td>\n",
       "      <td>Brookline</td>\n",
       "      <td>Yes</td>\n",
       "      <td>15</td>\n",
       "      <td>2021.0</td>\n",
       "      <td>POINT (-71.11467 42.34415)</td>\n",
       "    </tr>\n",
       "    <tr>\n",
       "      <th>1</th>\n",
       "      <td>W32006</td>\n",
       "      <td>160 Arsenal</td>\n",
       "      <td>42.364664</td>\n",
       "      <td>-71.175694</td>\n",
       "      <td>Watertown</td>\n",
       "      <td>Yes</td>\n",
       "      <td>11</td>\n",
       "      <td>2021.0</td>\n",
       "      <td>POINT (-71.17569 42.36466)</td>\n",
       "    </tr>\n",
       "    <tr>\n",
       "      <th>2</th>\n",
       "      <td>A32019</td>\n",
       "      <td>175 N Harvard St</td>\n",
       "      <td>42.363796</td>\n",
       "      <td>-71.129164</td>\n",
       "      <td>Boston</td>\n",
       "      <td>Yes</td>\n",
       "      <td>17</td>\n",
       "      <td>2014.0</td>\n",
       "      <td>POINT (-71.12916 42.36380)</td>\n",
       "    </tr>\n",
       "    <tr>\n",
       "      <th>3</th>\n",
       "      <td>S32035</td>\n",
       "      <td>191 Beacon St</td>\n",
       "      <td>42.380323</td>\n",
       "      <td>-71.108786</td>\n",
       "      <td>Somerville</td>\n",
       "      <td>Yes</td>\n",
       "      <td>19</td>\n",
       "      <td>2018.0</td>\n",
       "      <td>POINT (-71.10879 42.38032)</td>\n",
       "    </tr>\n",
       "    <tr>\n",
       "      <th>4</th>\n",
       "      <td>C32094</td>\n",
       "      <td>2 Hummingbird Lane at Olmsted Green</td>\n",
       "      <td>42.288870</td>\n",
       "      <td>-71.095003</td>\n",
       "      <td>Boston</td>\n",
       "      <td>Yes</td>\n",
       "      <td>17</td>\n",
       "      <td>2020.0</td>\n",
       "      <td>POINT (-71.09500 42.28887)</td>\n",
       "    </tr>\n",
       "    <tr>\n",
       "      <th>...</th>\n",
       "      <td>...</td>\n",
       "      <td>...</td>\n",
       "      <td>...</td>\n",
       "      <td>...</td>\n",
       "      <td>...</td>\n",
       "      <td>...</td>\n",
       "      <td>...</td>\n",
       "      <td>...</td>\n",
       "      <td>...</td>\n",
       "    </tr>\n",
       "    <tr>\n",
       "      <th>443</th>\n",
       "      <td>N32005</td>\n",
       "      <td>West Newton</td>\n",
       "      <td>42.349601</td>\n",
       "      <td>-71.226275</td>\n",
       "      <td>Newton</td>\n",
       "      <td>Yes</td>\n",
       "      <td>14</td>\n",
       "      <td>2020.0</td>\n",
       "      <td>POINT (-71.22627 42.34960)</td>\n",
       "    </tr>\n",
       "    <tr>\n",
       "      <th>444</th>\n",
       "      <td>A32043</td>\n",
       "      <td>Western Ave at Richardson St</td>\n",
       "      <td>42.361787</td>\n",
       "      <td>-71.143931</td>\n",
       "      <td>Boston</td>\n",
       "      <td>Yes</td>\n",
       "      <td>0</td>\n",
       "      <td>2019.0</td>\n",
       "      <td>POINT (-71.14393 42.36179)</td>\n",
       "    </tr>\n",
       "    <tr>\n",
       "      <th>445</th>\n",
       "      <td>B32059</td>\n",
       "      <td>Whittier St Health Center</td>\n",
       "      <td>42.332863</td>\n",
       "      <td>-71.092189</td>\n",
       "      <td>Boston</td>\n",
       "      <td>Yes</td>\n",
       "      <td>19</td>\n",
       "      <td>2019.0</td>\n",
       "      <td>POINT (-71.09219 42.33286)</td>\n",
       "    </tr>\n",
       "    <tr>\n",
       "      <th>446</th>\n",
       "      <td>D32040</td>\n",
       "      <td>Williams St at Washington St</td>\n",
       "      <td>42.306539</td>\n",
       "      <td>-71.107669</td>\n",
       "      <td>Boston</td>\n",
       "      <td>Yes</td>\n",
       "      <td>23</td>\n",
       "      <td>2018.0</td>\n",
       "      <td>POINT (-71.10767 42.30654)</td>\n",
       "    </tr>\n",
       "    <tr>\n",
       "      <th>447</th>\n",
       "      <td>S32005</td>\n",
       "      <td>Wilson Square</td>\n",
       "      <td>42.385676</td>\n",
       "      <td>-71.114121</td>\n",
       "      <td>Somerville</td>\n",
       "      <td>Yes</td>\n",
       "      <td>15</td>\n",
       "      <td>2012.0</td>\n",
       "      <td>POINT (-71.11412 42.38568)</td>\n",
       "    </tr>\n",
       "  </tbody>\n",
       "</table>\n",
       "<p>448 rows × 9 columns</p>\n",
       "</div>"
      ],
      "text/plain": [
       "     Number                                 Name   Latitude  Longitude  \\\n",
       "0    K32015                       1200 Beacon St  42.344149 -71.114674   \n",
       "1    W32006                          160 Arsenal  42.364664 -71.175694   \n",
       "2    A32019                     175 N Harvard St  42.363796 -71.129164   \n",
       "3    S32035                        191 Beacon St  42.380323 -71.108786   \n",
       "4    C32094  2 Hummingbird Lane at Olmsted Green  42.288870 -71.095003   \n",
       "..      ...                                  ...        ...        ...   \n",
       "443  N32005                          West Newton  42.349601 -71.226275   \n",
       "444  A32043         Western Ave at Richardson St  42.361787 -71.143931   \n",
       "445  B32059            Whittier St Health Center  42.332863 -71.092189   \n",
       "446  D32040         Williams St at Washington St  42.306539 -71.107669   \n",
       "447  S32005                        Wilson Square  42.385676 -71.114121   \n",
       "\n",
       "       District Public  Total docks  Deployment Year  \\\n",
       "0     Brookline    Yes           15           2021.0   \n",
       "1     Watertown    Yes           11           2021.0   \n",
       "2        Boston    Yes           17           2014.0   \n",
       "3    Somerville    Yes           19           2018.0   \n",
       "4        Boston    Yes           17           2020.0   \n",
       "..          ...    ...          ...              ...   \n",
       "443      Newton    Yes           14           2020.0   \n",
       "444      Boston    Yes            0           2019.0   \n",
       "445      Boston    Yes           19           2019.0   \n",
       "446      Boston    Yes           23           2018.0   \n",
       "447  Somerville    Yes           15           2012.0   \n",
       "\n",
       "                       geometry  \n",
       "0    POINT (-71.11467 42.34415)  \n",
       "1    POINT (-71.17569 42.36466)  \n",
       "2    POINT (-71.12916 42.36380)  \n",
       "3    POINT (-71.10879 42.38032)  \n",
       "4    POINT (-71.09500 42.28887)  \n",
       "..                          ...  \n",
       "443  POINT (-71.22627 42.34960)  \n",
       "444  POINT (-71.14393 42.36179)  \n",
       "445  POINT (-71.09219 42.33286)  \n",
       "446  POINT (-71.10767 42.30654)  \n",
       "447  POINT (-71.11412 42.38568)  \n",
       "\n",
       "[448 rows x 9 columns]"
      ]
     },
     "execution_count": 9,
     "metadata": {},
     "output_type": "execute_result"
    }
   ],
   "source": [
    "from shapely.geometry import Point\n",
    "from geopandas import datasets, GeoDataFrame, read_file\n",
    "import geopandas\n",
    "import pandas as pd\n",
    "\n",
    "# Boston neighbourhoods\n",
    "polydf = read_file('data/Boston_Neighborhoods.geojson')\n",
    "\n",
    "stations = pd.read_csv(os.getenv(\"station_path\"), header=1)\n",
    "pointdf = GeoDataFrame(\n",
    "    stations, geometry=geopandas.points_from_xy(stations.Longitude, stations.Latitude))\n",
    "\n",
    "pointdf.set_crs(epsg='4326', inplace=True)\n",
    "\n",
    "# Make sure they're using the same projection reference"
   ]
  },
  {
   "cell_type": "code",
   "execution_count": 10,
   "metadata": {},
   "outputs": [
    {
     "data": {
      "text/html": [
       "<div>\n",
       "<style scoped>\n",
       "    .dataframe tbody tr th:only-of-type {\n",
       "        vertical-align: middle;\n",
       "    }\n",
       "\n",
       "    .dataframe tbody tr th {\n",
       "        vertical-align: top;\n",
       "    }\n",
       "\n",
       "    .dataframe thead th {\n",
       "        text-align: right;\n",
       "    }\n",
       "</style>\n",
       "<table border=\"1\" class=\"dataframe\">\n",
       "  <thead>\n",
       "    <tr style=\"text-align: right;\">\n",
       "      <th></th>\n",
       "      <th>Station</th>\n",
       "      <th>Neighbourhood</th>\n",
       "    </tr>\n",
       "  </thead>\n",
       "  <tbody>\n",
       "    <tr>\n",
       "      <th>0</th>\n",
       "      <td>175 N Harvard St</td>\n",
       "      <td>Allston</td>\n",
       "    </tr>\n",
       "    <tr>\n",
       "      <th>1</th>\n",
       "      <td>2 Hummingbird Lane at Olmsted Green</td>\n",
       "      <td>Mattapan</td>\n",
       "    </tr>\n",
       "    <tr>\n",
       "      <th>2</th>\n",
       "      <td>555 Metropolitan Ave</td>\n",
       "      <td>Hyde Park</td>\n",
       "    </tr>\n",
       "    <tr>\n",
       "      <th>3</th>\n",
       "      <td>606 American Legion Hwy at Canterbury St</td>\n",
       "      <td>Roslindale</td>\n",
       "    </tr>\n",
       "    <tr>\n",
       "      <th>4</th>\n",
       "      <td>645 Summer St</td>\n",
       "      <td>South Boston Waterfront</td>\n",
       "    </tr>\n",
       "  </tbody>\n",
       "</table>\n",
       "</div>"
      ],
      "text/plain": [
       "                                    Station            Neighbourhood\n",
       "0                          175 N Harvard St                  Allston\n",
       "1       2 Hummingbird Lane at Olmsted Green                 Mattapan\n",
       "2                      555 Metropolitan Ave                Hyde Park\n",
       "3  606 American Legion Hwy at Canterbury St               Roslindale\n",
       "4                             645 Summer St  South Boston Waterfront"
      ]
     },
     "execution_count": 10,
     "metadata": {},
     "output_type": "execute_result"
    }
   ],
   "source": [
    "#https://geopandas.org/en/stable/gallery/spatial_joins.html\n",
    "joined_df = pointdf.sjoin(polydf, how=\"left\")\n",
    "grab_df = joined_df[['Name_left', 'Name_right', 'District']]\n",
    "import sqldf\n",
    "matched_pairs = sqldf.run('SELECT DISTINCT Name_left as Station, Name_right as Neighbourhood from grab_df where District = \\'Boston\\'')\n",
    "matched_pairs.to_csv('data/neighbourhood_stations.csv')\n",
    "matched_pairs.head()"
   ]
  },
  {
   "cell_type": "code",
   "execution_count": 11,
   "metadata": {},
   "outputs": [
    {
     "data": {
      "text/html": [
       "<div>\n",
       "<style scoped>\n",
       "    .dataframe tbody tr th:only-of-type {\n",
       "        vertical-align: middle;\n",
       "    }\n",
       "\n",
       "    .dataframe tbody tr th {\n",
       "        vertical-align: top;\n",
       "    }\n",
       "\n",
       "    .dataframe thead th {\n",
       "        text-align: right;\n",
       "    }\n",
       "</style>\n",
       "<table border=\"1\" class=\"dataframe\">\n",
       "  <thead>\n",
       "    <tr style=\"text-align: right;\">\n",
       "      <th></th>\n",
       "      <th>Name_left</th>\n",
       "      <th>Name_right</th>\n",
       "      <th>District</th>\n",
       "    </tr>\n",
       "  </thead>\n",
       "  <tbody>\n",
       "    <tr>\n",
       "      <th>0</th>\n",
       "      <td>1200 Beacon St</td>\n",
       "      <td>None</td>\n",
       "      <td>Brookline</td>\n",
       "    </tr>\n",
       "    <tr>\n",
       "      <th>1</th>\n",
       "      <td>160 Arsenal</td>\n",
       "      <td>None</td>\n",
       "      <td>Watertown</td>\n",
       "    </tr>\n",
       "    <tr>\n",
       "      <th>2</th>\n",
       "      <td>175 N Harvard St</td>\n",
       "      <td>Allston</td>\n",
       "      <td>Boston</td>\n",
       "    </tr>\n",
       "    <tr>\n",
       "      <th>3</th>\n",
       "      <td>191 Beacon St</td>\n",
       "      <td>None</td>\n",
       "      <td>Somerville</td>\n",
       "    </tr>\n",
       "    <tr>\n",
       "      <th>4</th>\n",
       "      <td>2 Hummingbird Lane at Olmsted Green</td>\n",
       "      <td>Mattapan</td>\n",
       "      <td>Boston</td>\n",
       "    </tr>\n",
       "    <tr>\n",
       "      <th>...</th>\n",
       "      <td>...</td>\n",
       "      <td>...</td>\n",
       "      <td>...</td>\n",
       "    </tr>\n",
       "    <tr>\n",
       "      <th>443</th>\n",
       "      <td>West Newton</td>\n",
       "      <td>None</td>\n",
       "      <td>Newton</td>\n",
       "    </tr>\n",
       "    <tr>\n",
       "      <th>444</th>\n",
       "      <td>Western Ave at Richardson St</td>\n",
       "      <td>Brighton</td>\n",
       "      <td>Boston</td>\n",
       "    </tr>\n",
       "    <tr>\n",
       "      <th>445</th>\n",
       "      <td>Whittier St Health Center</td>\n",
       "      <td>Roxbury</td>\n",
       "      <td>Boston</td>\n",
       "    </tr>\n",
       "    <tr>\n",
       "      <th>446</th>\n",
       "      <td>Williams St at Washington St</td>\n",
       "      <td>Jamaica Plain</td>\n",
       "      <td>Boston</td>\n",
       "    </tr>\n",
       "    <tr>\n",
       "      <th>447</th>\n",
       "      <td>Wilson Square</td>\n",
       "      <td>None</td>\n",
       "      <td>Somerville</td>\n",
       "    </tr>\n",
       "  </tbody>\n",
       "</table>\n",
       "<p>448 rows × 3 columns</p>\n",
       "</div>"
      ],
      "text/plain": [
       "                               Name_left     Name_right    District\n",
       "0                         1200 Beacon St           None   Brookline\n",
       "1                            160 Arsenal           None   Watertown\n",
       "2                       175 N Harvard St        Allston      Boston\n",
       "3                          191 Beacon St           None  Somerville\n",
       "4    2 Hummingbird Lane at Olmsted Green       Mattapan      Boston\n",
       "..                                   ...            ...         ...\n",
       "443                          West Newton           None      Newton\n",
       "444         Western Ave at Richardson St       Brighton      Boston\n",
       "445            Whittier St Health Center        Roxbury      Boston\n",
       "446         Williams St at Washington St  Jamaica Plain      Boston\n",
       "447                        Wilson Square           None  Somerville\n",
       "\n",
       "[448 rows x 3 columns]"
      ]
     },
     "execution_count": 11,
     "metadata": {},
     "output_type": "execute_result"
    }
   ],
   "source": [
    "grab_df"
   ]
  },
  {
   "cell_type": "markdown",
   "metadata": {},
   "source": [
    "### 3. Calling the ETL classes"
   ]
  },
  {
   "cell_type": "code",
   "execution_count": 1,
   "metadata": {},
   "outputs": [
    {
     "name": "stderr",
     "output_type": "stream",
     "text": [
      "/Users/desmondmolloy/PycharmProjects/SparkBike/sparkbike/etl.py:5: UserWarning: Shapely 2.0 is installed, but because PyGEOS is also installed, GeoPandas will still use PyGEOS by default for now. To force to use and test Shapely 2.0, you have to set the environment variable USE_PYGEOS=0. You can do this before starting the Python process, or in your code before importing geopandas:\n",
      "\n",
      "import os\n",
      "os.environ['USE_PYGEOS'] = '0'\n",
      "import geopandas\n",
      "\n",
      "In a future release, GeoPandas will switch to using Shapely by default. If you are using PyGEOS directly (calling PyGEOS functions on geometries from GeoPandas), this will then stop working and you are encouraged to migrate from PyGEOS to Shapely 2.0 (https://shapely.readthedocs.io/en/latest/migration_pygeos.html).\n",
      "  from geopandas import GeoDataFrame, read_file\n"
     ]
    },
    {
     "ename": "AttributeError",
     "evalue": "module '__main__' has no attribute 'joined_df'",
     "output_type": "error",
     "traceback": [
      "\u001B[0;31m---------------------------------------------------------------------------\u001B[0m",
      "\u001B[0;31mAttributeError\u001B[0m                            Traceback (most recent call last)",
      "Cell \u001B[0;32mIn[1], line 4\u001B[0m\n\u001B[1;32m      2\u001B[0m worker \u001B[38;5;241m=\u001B[39m ExtractTransformLoad()\n\u001B[1;32m      3\u001B[0m worker\u001B[38;5;241m.\u001B[39mzip()\n\u001B[0;32m----> 4\u001B[0m \u001B[43mworker\u001B[49m\u001B[38;5;241;43m.\u001B[39;49m\u001B[43mgeojoin\u001B[49m\u001B[43m(\u001B[49m\u001B[43m)\u001B[49m\n",
      "File \u001B[0;32m~/PycharmProjects/SparkBike/sparkbike/etl.py:31\u001B[0m, in \u001B[0;36mExtractTransformLoad.geojoin\u001B[0;34m(self)\u001B[0m\n\u001B[1;32m     29\u001B[0m intermediate_df \u001B[38;5;241m=\u001B[39m joined_df[[\u001B[38;5;124m'\u001B[39m\u001B[38;5;124mName_left\u001B[39m\u001B[38;5;124m'\u001B[39m, \u001B[38;5;124m'\u001B[39m\u001B[38;5;124mName_right\u001B[39m\u001B[38;5;124m'\u001B[39m, \u001B[38;5;124m'\u001B[39m\u001B[38;5;124mDistrict\u001B[39m\u001B[38;5;124m'\u001B[39m]]\n\u001B[1;32m     30\u001B[0m \u001B[38;5;28;01mimport\u001B[39;00m \u001B[38;5;21;01msqldf\u001B[39;00m\n\u001B[0;32m---> 31\u001B[0m matched_pairs \u001B[38;5;241m=\u001B[39m \u001B[43msqldf\u001B[49m\u001B[38;5;241;43m.\u001B[39;49m\u001B[43mrun\u001B[49m\u001B[43m(\u001B[49m\n\u001B[1;32m     32\u001B[0m \u001B[43m    \u001B[49m\u001B[38;5;124;43m'\u001B[39;49m\u001B[38;5;124;43mSELECT DISTINCT Name_left as Station, Name_right as Neighbourhood from joined_df where District = \u001B[39;49m\u001B[38;5;130;43;01m\\'\u001B[39;49;00m\u001B[38;5;124;43mBoston\u001B[39;49m\u001B[38;5;130;43;01m\\'\u001B[39;49;00m\u001B[38;5;124;43m'\u001B[39;49m\u001B[43m)\u001B[49m\n\u001B[1;32m     33\u001B[0m matched_pairs\u001B[38;5;241m.\u001B[39mto_csv(\u001B[38;5;124m'\u001B[39m\u001B[38;5;124mdata/neighbourhood_stations.csv\u001B[39m\u001B[38;5;124m'\u001B[39m)\n",
      "File \u001B[0;32m~/.conda/envs/SparkBike/lib/python3.8/site-packages/sqldf/sqldf.py:120\u001B[0m, in \u001B[0;36mrun\u001B[0;34m(query)\u001B[0m\n\u001B[1;32m    118\u001B[0m \u001B[38;5;28;01mfor\u001B[39;00m dataframe \u001B[38;5;129;01min\u001B[39;00m df_to_virtualize:\n\u001B[1;32m    119\u001B[0m     exec(\u001B[38;5;124m\"\u001B[39m\u001B[38;5;124mglobal \u001B[39m\u001B[38;5;124m\"\u001B[39m\u001B[38;5;241m+\u001B[39m dataframe)\n\u001B[0;32m--> 120\u001B[0m     temp_df \u001B[38;5;241m=\u001B[39m \u001B[38;5;28;43meval\u001B[39;49m\u001B[43m(\u001B[49m\u001B[38;5;124;43m\"\u001B[39;49m\u001B[38;5;124;43m__main__.\u001B[39;49m\u001B[38;5;124;43m\"\u001B[39;49m\u001B[38;5;241;43m+\u001B[39;49m\u001B[43mdataframe\u001B[49m\u001B[43m)\u001B[49m\n\u001B[1;32m    121\u001B[0m     temp_df\u001B[38;5;241m.\u001B[39mto_sql(dataframe, conn)\n\u001B[1;32m    122\u001B[0m     \u001B[38;5;66;03m# Save the name of the index\u001B[39;00m\n",
      "File \u001B[0;32m<string>:1\u001B[0m\n",
      "\u001B[0;31mAttributeError\u001B[0m: module '__main__' has no attribute 'joined_df'"
     ]
    }
   ],
   "source": [
    "from sparkbike.etl import ExtractTransformLoad\n",
    "worker = ExtractTransformLoad()\n",
    "worker.zip()\n",
    "worker.geojoin()"
   ]
  },
  {
   "cell_type": "markdown",
   "metadata": {},
   "source": [
    "### 4. Checking retrieval of the data\n",
    "## 2. PyShiny development\n",
    "\n",
    "## 3. Airflow development\n",
    "- Install Airflow\n",
    "- Then change config to point to local dags setup (this should be part of setup file)\n",
    "- Then launch/create database"
   ]
  }
 ],
 "metadata": {
  "kernelspec": {
   "display_name": "Python 3 (ipykernel)",
   "language": "python",
   "name": "python3"
  },
  "language_info": {
   "codemirror_mode": {
    "name": "ipython",
    "version": 3
   },
   "file_extension": ".py",
   "mimetype": "text/x-python",
   "name": "python",
   "nbconvert_exporter": "python",
   "pygments_lexer": "ipython3",
   "version": "3.8.15"
  }
 },
 "nbformat": 4,
 "nbformat_minor": 4
}