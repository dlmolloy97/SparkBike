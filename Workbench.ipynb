{
 "cells": [
  {
   "cell_type": "markdown",
   "metadata": {
    "pycharm": {
     "name": "#%% md\n"
    },
    "tags": []
   },
   "source": [
    "# Workbench\n",
    "\n",
    "The goal of this project is to develop a PyShiny app capable of visualising the following for a selected neighbourhood of Boston, MA:\n",
    "\n",
    "1. The most common **destination** for cyclists renting a BlueBike in that neighbourhood\n",
    "2. The most common **origin** for cyclists who rented a BlueBike elsewhere, and finished their journey in the selected neighborhood\n",
    "3. Over the course of the day, the times at which the most cyclists *arrived* in the neighbourhood by bicycle\n",
    "4. Over the course of the day, the times at which the most cyclists *departed* the neighbourhood by bicycle\n",
    "\n",
    "Ideally, the following variables will be selectable in the user input:\n",
    "- The neighbourhood\n",
    "- The direction (inbound vs. outbound)\n",
    "\n",
    "The data processing will be carried out using a local instance of PySpark"
   ]
  },
  {
   "cell_type": "markdown",
   "metadata": {
    "tags": []
   },
   "source": [
    "## 1. Data engineering and processing\n",
    "### 1. Setting up Spark"
   ]
  },
  {
   "cell_type": "markdown",
   "metadata": {
    "pycharm": {
     "name": "#%% md\n"
    }
   },
   "source": [
    "We start by setting up a PySpark cluster"
   ]
  },
  {
   "cell_type": "code",
   "execution_count": 1,
   "metadata": {
    "pycharm": {
     "name": "#%%\n"
    }
   },
   "outputs": [
    {
     "ename": "ModuleNotFoundError",
     "evalue": "No module named 'pyspark'",
     "output_type": "error",
     "traceback": [
      "\u001B[0;31m---------------------------------------------------------------------------\u001B[0m",
      "\u001B[0;31mModuleNotFoundError\u001B[0m                       Traceback (most recent call last)",
      "\u001B[0;32m/var/folders/63/7wfwn_sn3cv5zpj5dk7k9r3r0000gn/T/ipykernel_2127/976789616.py\u001B[0m in \u001B[0;36m<module>\u001B[0;34m\u001B[0m\n\u001B[1;32m      1\u001B[0m \u001B[0;31m#Reference: https://sparkbyexamples.com/spark/how-to-create-a-sparksession-and-spark-context/\u001B[0m\u001B[0;34m\u001B[0m\u001B[0;34m\u001B[0m\u001B[0m\n\u001B[0;32m----> 2\u001B[0;31m \u001B[0;32mimport\u001B[0m \u001B[0mpyspark\u001B[0m\u001B[0;34m\u001B[0m\u001B[0;34m\u001B[0m\u001B[0m\n\u001B[0m\u001B[1;32m      3\u001B[0m \u001B[0;32mfrom\u001B[0m \u001B[0mpyspark\u001B[0m\u001B[0;34m.\u001B[0m\u001B[0msql\u001B[0m \u001B[0;32mimport\u001B[0m \u001B[0mSparkSession\u001B[0m\u001B[0;34m\u001B[0m\u001B[0;34m\u001B[0m\u001B[0m\n\u001B[1;32m      4\u001B[0m \u001B[0mspark\u001B[0m \u001B[0;34m=\u001B[0m \u001B[0mSparkSession\u001B[0m\u001B[0;34m.\u001B[0m\u001B[0mbuilder\u001B[0m\u001B[0;34m.\u001B[0m\u001B[0mmaster\u001B[0m\u001B[0;34m(\u001B[0m\u001B[0;34m\"local[1]\"\u001B[0m\u001B[0;34m)\u001B[0m\u001B[0;31m \u001B[0m\u001B[0;31m\\\u001B[0m\u001B[0;34m\u001B[0m\u001B[0;34m\u001B[0m\u001B[0m\n\u001B[1;32m      5\u001B[0m                     \u001B[0;34m.\u001B[0m\u001B[0mappName\u001B[0m\u001B[0;34m(\u001B[0m\u001B[0;34m'SparkByExamples.com'\u001B[0m\u001B[0;34m)\u001B[0m\u001B[0;31m \u001B[0m\u001B[0;31m\\\u001B[0m\u001B[0;34m\u001B[0m\u001B[0;34m\u001B[0m\u001B[0m\n",
      "\u001B[0;31mModuleNotFoundError\u001B[0m: No module named 'pyspark'"
     ]
    }
   ],
   "source": [
    "#Reference: https://sparkbyexamples.com/spark/how-to-create-a-sparksession-and-spark-context/\n",
    "import pyspark\n",
    "from pyspark.sql import SparkSession\n",
    "spark = SparkSession.builder.master(\"local[1]\") \\\n",
    "                    .appName('SparkByExamples.com') \\\n",
    "                    .getOrCreate()"
   ]
  },
  {
   "cell_type": "markdown",
   "metadata": {
    "pycharm": {
     "name": "#%% md\n"
    }
   },
   "source": [
    "We then check that it runs correctly"
   ]
  },
  {
   "cell_type": "code",
   "execution_count": null,
   "metadata": {
    "pycharm": {
     "name": "#%%\n"
    }
   },
   "outputs": [],
   "source": [
    "print(\"First SparkContext:\");\n",
    "print(\"APP Name :\"+spark.sparkContext.appName);\n",
    "print(\"Master :\"+spark.sparkContext.master);"
   ]
  },
  {
   "cell_type": "markdown",
   "metadata": {
    "tags": []
   },
   "source": [
    "### 2. Developing the BlueBike data access code locally\n",
    "\n",
    "#### 1. Ridership data\n",
    "First, we configure the environment zip path variables\n",
    "\n",
    "The first approach was not successful"
   ]
  },
  {
   "cell_type": "markdown",
   "metadata": {
    "pycharm": {
     "name": "#%% md\n"
    }
   },
   "source": [
    "It was necessary to use the load_dotenv package:"
   ]
  },
  {
   "cell_type": "code",
   "execution_count": null,
   "metadata": {
    "pycharm": {
     "name": "#%%\n"
    }
   },
   "outputs": [],
   "source": [
    "#Location: https://stackoverflow.com/questions/63019506/python-get-value-of-env-variable-from-a-specific-env-file\n",
    "from dotenv import load_dotenv\n",
    "load_dotenv()\n",
    "import os\n",
    "x = os.getenv(\"zip_path\")\n",
    "print(x)"
   ]
  },
  {
   "cell_type": "markdown",
   "metadata": {},
   "source": [
    "Next, we download and unzip the file:"
   ]
  },
  {
   "cell_type": "code",
   "execution_count": null,
   "metadata": {},
   "outputs": [],
   "source": [
    "! wget https://s3.amazonaws.com/hubway-data/202211-bluebikes-tripdata.zip -P data/\n"
   ]
  },
  {
   "cell_type": "code",
   "execution_count": null,
   "metadata": {},
   "outputs": [],
   "source": [
    "#https://stackoverflow.com/questions/3451111/unzipping-files-in-python\n",
    "import zipfile\n",
    "with zipfile.ZipFile(os.getenv(\"zip_path\"), 'r') as zip_ref:\n",
    "    zip_ref.extractall(\"data/\")"
   ]
  },
  {
   "cell_type": "markdown",
   "metadata": {},
   "source": [
    "Inspecting the data:"
   ]
  },
  {
   "cell_type": "code",
   "execution_count": null,
   "metadata": {},
   "outputs": [],
   "source": [
    "df = spark.read.csv(\"data/202211-bluebikes-tripdata.csv\", header=True)\n",
    "df.printSchema()\n",
    "df.head()"
   ]
  },
  {
   "cell_type": "markdown",
   "metadata": {},
   "source": [
    "#### 2. Station data\n",
    "It was also necessary to match the stations with Boston's various neighbourhoods.\n"
   ]
  },
  {
   "cell_type": "code",
   "execution_count": null,
   "metadata": {},
   "outputs": [],
   "source": [
    "import pyogrio"
   ]
  },
  {
   "cell_type": "code",
   "execution_count": null,
   "metadata": {},
   "outputs": [],
   "source": [
    "import pandas as pd\n",
    "pd.read_csv(os.getenv(\"station_path\"), header=1).head()"
   ]
  },
  {
   "cell_type": "code",
   "execution_count": null,
   "metadata": {},
   "outputs": [],
   "source": [
    "from shapely.geometry import Point\n",
    "from geopandas import datasets, GeoDataFrame, read_file\n",
    "import geopandas\n",
    "import pandas as pd\n",
    "\n",
    "# Boston neighbourhoods\n",
    "polydf = read_file('data/Boston_Neighborhoods.geojson')\n",
    "\n",
    "stations = pd.read_csv(os.getenv(\"station_path\"), header=1)\n",
    "pointdf = GeoDataFrame(\n",
    "    stations, geometry=geopandas.points_from_xy(stations.Longitude, stations.Latitude))\n",
    "\n",
    "pointdf.set_crs(epsg='4326', inplace=True)\n",
    "\n",
    "# Make sure they're using the same projection reference"
   ]
  },
  {
   "cell_type": "code",
   "execution_count": null,
   "metadata": {},
   "outputs": [],
   "source": [
    "#https://geopandas.org/en/stable/gallery/spatial_joins.html\n",
    "joined_df = pointdf.sjoin(polydf, how=\"left\")\n",
    "grab_df = joined_df[['Name_left', 'Name_right', 'District']]\n",
    "import sqldf\n",
    "matched_pairs = sqldf.run('SELECT DISTINCT Name_left as Station, Name_right as Neighbourhood from grab_df where District = \\'Boston\\'')\n",
    "matched_pairs.to_csv('data/neighbourhood_stations.csv')\n",
    "matched_pairs.head()"
   ]
  },
  {
   "cell_type": "code",
   "execution_count": null,
   "metadata": {},
   "outputs": [],
   "source": [
    "grab_df"
   ]
  },
  {
   "cell_type": "markdown",
   "metadata": {},
   "source": [
    "### 3. Calling the ETL classes"
   ]
  },
  {
   "cell_type": "code",
   "execution_count": null,
   "metadata": {},
   "outputs": [],
   "source": [
    "from sparkbike.etl import ExtractTransformLoad\n",
    "worker = ExtractTransformLoad()\n",
    "worker.zip()\n",
    "worker.geojoin()"
   ]
  },
  {
   "cell_type": "markdown",
   "metadata": {},
   "source": [
    "### 4. PostgreSQL connection\n"
   ]
  },
  {
   "cell_type": "code",
   "execution_count": 2,
   "metadata": {},
   "outputs": [
    {
     "data": {
      "text/html": [
       "<div>\n",
       "<style scoped>\n",
       "    .dataframe tbody tr th:only-of-type {\n",
       "        vertical-align: middle;\n",
       "    }\n",
       "\n",
       "    .dataframe tbody tr th {\n",
       "        vertical-align: top;\n",
       "    }\n",
       "\n",
       "    .dataframe thead th {\n",
       "        text-align: right;\n",
       "    }\n",
       "</style>\n",
       "<table border=\"1\" class=\"dataframe\">\n",
       "  <thead>\n",
       "    <tr style=\"text-align: right;\">\n",
       "      <th></th>\n",
       "      <th>a</th>\n",
       "      <th>Station</th>\n",
       "      <th>Neighbourhood</th>\n",
       "    </tr>\n",
       "  </thead>\n",
       "  <tbody>\n",
       "    <tr>\n",
       "      <th>0</th>\n",
       "      <td>2.0</td>\n",
       "      <td>175 N Harvard St</td>\n",
       "      <td>Allston</td>\n",
       "    </tr>\n",
       "    <tr>\n",
       "      <th>1</th>\n",
       "      <td>4.0</td>\n",
       "      <td>2 Hummingbird Lane at Olmsted Green</td>\n",
       "      <td>Mattapan</td>\n",
       "    </tr>\n",
       "    <tr>\n",
       "      <th>2</th>\n",
       "      <td>8.0</td>\n",
       "      <td>555 Metropolitan Ave</td>\n",
       "      <td>Hyde Park</td>\n",
       "    </tr>\n",
       "    <tr>\n",
       "      <th>3</th>\n",
       "      <td>9.0</td>\n",
       "      <td>606 American Legion Hwy at Canterbury St</td>\n",
       "      <td>Roslindale</td>\n",
       "    </tr>\n",
       "    <tr>\n",
       "      <th>4</th>\n",
       "      <td>10.0</td>\n",
       "      <td>645 Summer St</td>\n",
       "      <td>South Boston Waterfront</td>\n",
       "    </tr>\n",
       "    <tr>\n",
       "      <th>...</th>\n",
       "      <td>...</td>\n",
       "      <td>...</td>\n",
       "      <td>...</td>\n",
       "    </tr>\n",
       "    <tr>\n",
       "      <th>245</th>\n",
       "      <td>441.0</td>\n",
       "      <td>Wentworth Institute of Technology - Huntington...</td>\n",
       "      <td>Fenway</td>\n",
       "    </tr>\n",
       "    <tr>\n",
       "      <th>246</th>\n",
       "      <td>442.0</td>\n",
       "      <td>West End Park</td>\n",
       "      <td>West End</td>\n",
       "    </tr>\n",
       "    <tr>\n",
       "      <th>247</th>\n",
       "      <td>444.0</td>\n",
       "      <td>Western Ave at Richardson St</td>\n",
       "      <td>Brighton</td>\n",
       "    </tr>\n",
       "    <tr>\n",
       "      <th>248</th>\n",
       "      <td>445.0</td>\n",
       "      <td>Whittier St Health Center</td>\n",
       "      <td>Roxbury</td>\n",
       "    </tr>\n",
       "    <tr>\n",
       "      <th>249</th>\n",
       "      <td>446.0</td>\n",
       "      <td>Williams St at Washington St</td>\n",
       "      <td>Jamaica Plain</td>\n",
       "    </tr>\n",
       "  </tbody>\n",
       "</table>\n",
       "<p>250 rows × 3 columns</p>\n",
       "</div>"
      ],
      "text/plain": [
       "         a                                            Station  \\\n",
       "0      2.0                                   175 N Harvard St   \n",
       "1      4.0                2 Hummingbird Lane at Olmsted Green   \n",
       "2      8.0                               555 Metropolitan Ave   \n",
       "3      9.0           606 American Legion Hwy at Canterbury St   \n",
       "4     10.0                                      645 Summer St   \n",
       "..     ...                                                ...   \n",
       "245  441.0  Wentworth Institute of Technology - Huntington...   \n",
       "246  442.0                                      West End Park   \n",
       "247  444.0                       Western Ave at Richardson St   \n",
       "248  445.0                          Whittier St Health Center   \n",
       "249  446.0                       Williams St at Washington St   \n",
       "\n",
       "               Neighbourhood  \n",
       "0                    Allston  \n",
       "1                   Mattapan  \n",
       "2                  Hyde Park  \n",
       "3                 Roslindale  \n",
       "4    South Boston Waterfront  \n",
       "..                       ...  \n",
       "245                   Fenway  \n",
       "246                 West End  \n",
       "247                 Brighton  \n",
       "248                  Roxbury  \n",
       "249            Jamaica Plain  \n",
       "\n",
       "[250 rows x 3 columns]"
      ]
     },
     "execution_count": 2,
     "metadata": {},
     "output_type": "execute_result"
    }
   ],
   "source": [
    "import pandas as pd\n",
    "import numpy as np\n",
    "from dotenv import load_dotenv\n",
    "load_dotenv()\n",
    "import os\n",
    "from sqlalchemy import create_engine\n",
    "alchemyEngine=create_engine(os.getenv('postgresql_path'), pool_recycle=3600)\n",
    "dbConnection=alchemyEngine.connect()\n",
    "stations=pd.read_sql(\"SELECT * FROM stations;\", dbConnection)\n",
    "stations"
   ]
  },
  {
   "cell_type": "code",
   "execution_count": 4,
   "metadata": {},
   "outputs": [
    {
     "data": {
      "text/html": [
       "<div>\n",
       "<style scoped>\n",
       "    .dataframe tbody tr th:only-of-type {\n",
       "        vertical-align: middle;\n",
       "    }\n",
       "\n",
       "    .dataframe tbody tr th {\n",
       "        vertical-align: top;\n",
       "    }\n",
       "\n",
       "    .dataframe thead th {\n",
       "        text-align: right;\n",
       "    }\n",
       "</style>\n",
       "<table border=\"1\" class=\"dataframe\">\n",
       "  <thead>\n",
       "    <tr style=\"text-align: right;\">\n",
       "      <th></th>\n",
       "      <th>tripduration</th>\n",
       "      <th>starttime</th>\n",
       "      <th>stoptime</th>\n",
       "      <th>start station id</th>\n",
       "      <th>start station name</th>\n",
       "      <th>start station latitude</th>\n",
       "      <th>start station longitude</th>\n",
       "      <th>end station id</th>\n",
       "      <th>end station name</th>\n",
       "      <th>end station latitude</th>\n",
       "      <th>end station longitude</th>\n",
       "      <th>bikeid</th>\n",
       "      <th>usertype</th>\n",
       "      <th>postal code</th>\n",
       "    </tr>\n",
       "  </thead>\n",
       "  <tbody>\n",
       "    <tr>\n",
       "      <th>0</th>\n",
       "      <td>803.0</td>\n",
       "      <td>2022-11-01 00:00:04</td>\n",
       "      <td>2022-11-01 00:13:28</td>\n",
       "      <td>46.0</td>\n",
       "      <td>Christian Science Plaza - Massachusetts Ave at...</td>\n",
       "      <td>42.343666</td>\n",
       "      <td>-71.085824</td>\n",
       "      <td>472.0</td>\n",
       "      <td>MIT Hayward St at Amherst St</td>\n",
       "      <td>42.360859</td>\n",
       "      <td>-71.085519</td>\n",
       "      <td>2088.0</td>\n",
       "      <td>Subscriber</td>\n",
       "      <td>02142</td>\n",
       "    </tr>\n",
       "    <tr>\n",
       "      <th>1</th>\n",
       "      <td>759.0</td>\n",
       "      <td>2022-11-01 00:00:23</td>\n",
       "      <td>2022-11-01 00:13:02</td>\n",
       "      <td>19.0</td>\n",
       "      <td>Park Dr at Buswell St</td>\n",
       "      <td>42.347241</td>\n",
       "      <td>-71.105301</td>\n",
       "      <td>52.0</td>\n",
       "      <td>Newbury St at Hereford St</td>\n",
       "      <td>42.348717</td>\n",
       "      <td>-71.085954</td>\n",
       "      <td>6889.0</td>\n",
       "      <td>Customer</td>\n",
       "      <td>None</td>\n",
       "    </tr>\n",
       "    <tr>\n",
       "      <th>2</th>\n",
       "      <td>1314.0</td>\n",
       "      <td>2022-11-01 00:00:55</td>\n",
       "      <td>2022-11-01 00:22:50</td>\n",
       "      <td>459.0</td>\n",
       "      <td>Canal St at Causeway St</td>\n",
       "      <td>42.365301</td>\n",
       "      <td>-71.060922</td>\n",
       "      <td>404.0</td>\n",
       "      <td>Mass Ave T Station</td>\n",
       "      <td>42.341356</td>\n",
       "      <td>-71.083370</td>\n",
       "      <td>3099.0</td>\n",
       "      <td>Customer</td>\n",
       "      <td>19454</td>\n",
       "    </tr>\n",
       "    <tr>\n",
       "      <th>3</th>\n",
       "      <td>541.0</td>\n",
       "      <td>2022-11-01 00:01:09</td>\n",
       "      <td>2022-11-01 00:10:11</td>\n",
       "      <td>30.0</td>\n",
       "      <td>Brigham Circle - Francis St at Huntington Ave</td>\n",
       "      <td>42.334629</td>\n",
       "      <td>-71.104079</td>\n",
       "      <td>5.0</td>\n",
       "      <td>Northeastern University - North Parking Lot</td>\n",
       "      <td>42.341814</td>\n",
       "      <td>-71.090179</td>\n",
       "      <td>7374.0</td>\n",
       "      <td>Subscriber</td>\n",
       "      <td>08802</td>\n",
       "    </tr>\n",
       "    <tr>\n",
       "      <th>4</th>\n",
       "      <td>478.0</td>\n",
       "      <td>2022-11-01 00:01:29</td>\n",
       "      <td>2022-11-01 00:09:27</td>\n",
       "      <td>554.0</td>\n",
       "      <td>Forsyth St at Huntington Ave</td>\n",
       "      <td>42.339202</td>\n",
       "      <td>-71.090511</td>\n",
       "      <td>360.0</td>\n",
       "      <td>Bartlett St at John Elliot Sq</td>\n",
       "      <td>42.329463</td>\n",
       "      <td>-71.090158</td>\n",
       "      <td>5108.0</td>\n",
       "      <td>Subscriber</td>\n",
       "      <td>02115</td>\n",
       "    </tr>\n",
       "    <tr>\n",
       "      <th>...</th>\n",
       "      <td>...</td>\n",
       "      <td>...</td>\n",
       "      <td>...</td>\n",
       "      <td>...</td>\n",
       "      <td>...</td>\n",
       "      <td>...</td>\n",
       "      <td>...</td>\n",
       "      <td>...</td>\n",
       "      <td>...</td>\n",
       "      <td>...</td>\n",
       "      <td>...</td>\n",
       "      <td>...</td>\n",
       "      <td>...</td>\n",
       "      <td>...</td>\n",
       "    </tr>\n",
       "    <tr>\n",
       "      <th>290616</th>\n",
       "      <td>430.0</td>\n",
       "      <td>2022-11-30 23:54:03</td>\n",
       "      <td>2022-12-01 00:01:13</td>\n",
       "      <td>49.0</td>\n",
       "      <td>Stuart St at Charles St</td>\n",
       "      <td>42.351146</td>\n",
       "      <td>-71.066289</td>\n",
       "      <td>47.0</td>\n",
       "      <td>Cross St at Hanover St</td>\n",
       "      <td>42.362811</td>\n",
       "      <td>-71.056067</td>\n",
       "      <td>5316.0</td>\n",
       "      <td>Subscriber</td>\n",
       "      <td>02113</td>\n",
       "    </tr>\n",
       "    <tr>\n",
       "      <th>290617</th>\n",
       "      <td>483.0</td>\n",
       "      <td>2022-11-30 23:55:32</td>\n",
       "      <td>2022-12-01 00:03:35</td>\n",
       "      <td>97.0</td>\n",
       "      <td>Harvard University River Houses at DeWolfe St ...</td>\n",
       "      <td>42.369239</td>\n",
       "      <td>-71.116870</td>\n",
       "      <td>104.0</td>\n",
       "      <td>Harvard University Radcliffe Quadrangle at She...</td>\n",
       "      <td>42.380287</td>\n",
       "      <td>-71.125107</td>\n",
       "      <td>6920.0</td>\n",
       "      <td>Customer</td>\n",
       "      <td>02138</td>\n",
       "    </tr>\n",
       "    <tr>\n",
       "      <th>290618</th>\n",
       "      <td>265.0</td>\n",
       "      <td>2022-11-30 23:57:44</td>\n",
       "      <td>2022-12-01 00:02:09</td>\n",
       "      <td>104.0</td>\n",
       "      <td>Harvard University Radcliffe Quadrangle at She...</td>\n",
       "      <td>42.380287</td>\n",
       "      <td>-71.125107</td>\n",
       "      <td>74.0</td>\n",
       "      <td>Harvard Square at Mass Ave/ Dunster</td>\n",
       "      <td>42.373268</td>\n",
       "      <td>-71.118579</td>\n",
       "      <td>7638.0</td>\n",
       "      <td>Subscriber</td>\n",
       "      <td>22101</td>\n",
       "    </tr>\n",
       "    <tr>\n",
       "      <th>290619</th>\n",
       "      <td>327.0</td>\n",
       "      <td>2022-11-30 23:58:33</td>\n",
       "      <td>2022-12-01 00:04:00</td>\n",
       "      <td>12.0</td>\n",
       "      <td>Ruggles T Stop - Columbus Ave at Melnea Cass Blvd</td>\n",
       "      <td>42.336244</td>\n",
       "      <td>-71.087986</td>\n",
       "      <td>200.0</td>\n",
       "      <td>Washington St at Melnea Cass Blvd</td>\n",
       "      <td>42.332817</td>\n",
       "      <td>-71.081198</td>\n",
       "      <td>8088.0</td>\n",
       "      <td>Subscriber</td>\n",
       "      <td>02119</td>\n",
       "    </tr>\n",
       "    <tr>\n",
       "      <th>290620</th>\n",
       "      <td>164.0</td>\n",
       "      <td>2022-11-30 23:58:42</td>\n",
       "      <td>2022-12-01 00:01:27</td>\n",
       "      <td>446.0</td>\n",
       "      <td>700 Commonwealth Ave.</td>\n",
       "      <td>42.349609</td>\n",
       "      <td>-71.103915</td>\n",
       "      <td>361.0</td>\n",
       "      <td>Deerfield St at Commonwealth Ave</td>\n",
       "      <td>42.349244</td>\n",
       "      <td>-71.097282</td>\n",
       "      <td>4855.0</td>\n",
       "      <td>Subscriber</td>\n",
       "      <td>02215</td>\n",
       "    </tr>\n",
       "  </tbody>\n",
       "</table>\n",
       "<p>290621 rows × 14 columns</p>\n",
       "</div>"
      ],
      "text/plain": [
       "        tripduration           starttime            stoptime  \\\n",
       "0              803.0 2022-11-01 00:00:04 2022-11-01 00:13:28   \n",
       "1              759.0 2022-11-01 00:00:23 2022-11-01 00:13:02   \n",
       "2             1314.0 2022-11-01 00:00:55 2022-11-01 00:22:50   \n",
       "3              541.0 2022-11-01 00:01:09 2022-11-01 00:10:11   \n",
       "4              478.0 2022-11-01 00:01:29 2022-11-01 00:09:27   \n",
       "...              ...                 ...                 ...   \n",
       "290616         430.0 2022-11-30 23:54:03 2022-12-01 00:01:13   \n",
       "290617         483.0 2022-11-30 23:55:32 2022-12-01 00:03:35   \n",
       "290618         265.0 2022-11-30 23:57:44 2022-12-01 00:02:09   \n",
       "290619         327.0 2022-11-30 23:58:33 2022-12-01 00:04:00   \n",
       "290620         164.0 2022-11-30 23:58:42 2022-12-01 00:01:27   \n",
       "\n",
       "        start station id                                 start station name  \\\n",
       "0                   46.0  Christian Science Plaza - Massachusetts Ave at...   \n",
       "1                   19.0                              Park Dr at Buswell St   \n",
       "2                  459.0                            Canal St at Causeway St   \n",
       "3                   30.0      Brigham Circle - Francis St at Huntington Ave   \n",
       "4                  554.0                       Forsyth St at Huntington Ave   \n",
       "...                  ...                                                ...   \n",
       "290616              49.0                            Stuart St at Charles St   \n",
       "290617              97.0  Harvard University River Houses at DeWolfe St ...   \n",
       "290618             104.0  Harvard University Radcliffe Quadrangle at She...   \n",
       "290619              12.0  Ruggles T Stop - Columbus Ave at Melnea Cass Blvd   \n",
       "290620             446.0                              700 Commonwealth Ave.   \n",
       "\n",
       "        start station latitude  start station longitude  end station id  \\\n",
       "0                    42.343666               -71.085824           472.0   \n",
       "1                    42.347241               -71.105301            52.0   \n",
       "2                    42.365301               -71.060922           404.0   \n",
       "3                    42.334629               -71.104079             5.0   \n",
       "4                    42.339202               -71.090511           360.0   \n",
       "...                        ...                      ...             ...   \n",
       "290616               42.351146               -71.066289            47.0   \n",
       "290617               42.369239               -71.116870           104.0   \n",
       "290618               42.380287               -71.125107            74.0   \n",
       "290619               42.336244               -71.087986           200.0   \n",
       "290620               42.349609               -71.103915           361.0   \n",
       "\n",
       "                                         end station name  \\\n",
       "0                            MIT Hayward St at Amherst St   \n",
       "1                               Newbury St at Hereford St   \n",
       "2                                      Mass Ave T Station   \n",
       "3             Northeastern University - North Parking Lot   \n",
       "4                           Bartlett St at John Elliot Sq   \n",
       "...                                                   ...   \n",
       "290616                             Cross St at Hanover St   \n",
       "290617  Harvard University Radcliffe Quadrangle at She...   \n",
       "290618                Harvard Square at Mass Ave/ Dunster   \n",
       "290619                  Washington St at Melnea Cass Blvd   \n",
       "290620                   Deerfield St at Commonwealth Ave   \n",
       "\n",
       "        end station latitude  end station longitude  bikeid    usertype  \\\n",
       "0                  42.360859             -71.085519  2088.0  Subscriber   \n",
       "1                  42.348717             -71.085954  6889.0    Customer   \n",
       "2                  42.341356             -71.083370  3099.0    Customer   \n",
       "3                  42.341814             -71.090179  7374.0  Subscriber   \n",
       "4                  42.329463             -71.090158  5108.0  Subscriber   \n",
       "...                      ...                    ...     ...         ...   \n",
       "290616             42.362811             -71.056067  5316.0  Subscriber   \n",
       "290617             42.380287             -71.125107  6920.0    Customer   \n",
       "290618             42.373268             -71.118579  7638.0  Subscriber   \n",
       "290619             42.332817             -71.081198  8088.0  Subscriber   \n",
       "290620             42.349244             -71.097282  4855.0  Subscriber   \n",
       "\n",
       "       postal code  \n",
       "0            02142  \n",
       "1             None  \n",
       "2            19454  \n",
       "3            08802  \n",
       "4            02115  \n",
       "...            ...  \n",
       "290616       02113  \n",
       "290617       02138  \n",
       "290618       22101  \n",
       "290619       02119  \n",
       "290620       02215  \n",
       "\n",
       "[290621 rows x 14 columns]"
      ]
     },
     "execution_count": 4,
     "metadata": {},
     "output_type": "execute_result"
    }
   ],
   "source": [
    "journeys=pd.read_sql(\"SELECT * FROM journeys;\", dbConnection)\n",
    "journeys"
   ]
  },
  {
   "cell_type": "code",
   "execution_count": 11,
   "metadata": {},
   "outputs": [
    {
     "data": {
      "text/html": [
       "<div>\n",
       "<style scoped>\n",
       "    .dataframe tbody tr th:only-of-type {\n",
       "        vertical-align: middle;\n",
       "    }\n",
       "\n",
       "    .dataframe tbody tr th {\n",
       "        vertical-align: top;\n",
       "    }\n",
       "\n",
       "    .dataframe thead th {\n",
       "        text-align: right;\n",
       "    }\n",
       "</style>\n",
       "<table border=\"1\" class=\"dataframe\">\n",
       "  <thead>\n",
       "    <tr style=\"text-align: right;\">\n",
       "      <th></th>\n",
       "      <th>start station name</th>\n",
       "    </tr>\n",
       "  </thead>\n",
       "  <tbody>\n",
       "    <tr>\n",
       "      <th>0</th>\n",
       "      <td>Christian Science Plaza - Massachusetts Ave at...</td>\n",
       "    </tr>\n",
       "    <tr>\n",
       "      <th>1</th>\n",
       "      <td>Park Dr at Buswell St</td>\n",
       "    </tr>\n",
       "    <tr>\n",
       "      <th>2</th>\n",
       "      <td>Canal St at Causeway St</td>\n",
       "    </tr>\n",
       "    <tr>\n",
       "      <th>3</th>\n",
       "      <td>Brigham Circle - Francis St at Huntington Ave</td>\n",
       "    </tr>\n",
       "    <tr>\n",
       "      <th>4</th>\n",
       "      <td>Forsyth St at Huntington Ave</td>\n",
       "    </tr>\n",
       "    <tr>\n",
       "      <th>...</th>\n",
       "      <td>...</td>\n",
       "    </tr>\n",
       "    <tr>\n",
       "      <th>290616</th>\n",
       "      <td>Stuart St at Charles St</td>\n",
       "    </tr>\n",
       "    <tr>\n",
       "      <th>290617</th>\n",
       "      <td>Harvard University River Houses at DeWolfe St ...</td>\n",
       "    </tr>\n",
       "    <tr>\n",
       "      <th>290618</th>\n",
       "      <td>Harvard University Radcliffe Quadrangle at She...</td>\n",
       "    </tr>\n",
       "    <tr>\n",
       "      <th>290619</th>\n",
       "      <td>Ruggles T Stop - Columbus Ave at Melnea Cass Blvd</td>\n",
       "    </tr>\n",
       "    <tr>\n",
       "      <th>290620</th>\n",
       "      <td>700 Commonwealth Ave.</td>\n",
       "    </tr>\n",
       "  </tbody>\n",
       "</table>\n",
       "<p>290621 rows × 1 columns</p>\n",
       "</div>"
      ],
      "text/plain": [
       "                                       start station name\n",
       "0       Christian Science Plaza - Massachusetts Ave at...\n",
       "1                                   Park Dr at Buswell St\n",
       "2                                 Canal St at Causeway St\n",
       "3           Brigham Circle - Francis St at Huntington Ave\n",
       "4                            Forsyth St at Huntington Ave\n",
       "...                                                   ...\n",
       "290616                            Stuart St at Charles St\n",
       "290617  Harvard University River Houses at DeWolfe St ...\n",
       "290618  Harvard University Radcliffe Quadrangle at She...\n",
       "290619  Ruggles T Stop - Columbus Ave at Melnea Cass Blvd\n",
       "290620                              700 Commonwealth Ave.\n",
       "\n",
       "[290621 rows x 1 columns]"
      ]
     },
     "execution_count": 11,
     "metadata": {},
     "output_type": "execute_result"
    }
   ],
   "source": [
    "journeys=pd.read_sql(\"SELECT \\\"start station name\\\" FROM journeys;\", dbConnection)\n",
    "journeys"
   ]
  },
  {
   "cell_type": "code",
   "execution_count": 14,
   "metadata": {},
   "outputs": [
    {
     "ename": "ProgrammingError",
     "evalue": "(psycopg2.errors.UndefinedColumn) column stations.station does not exist\nLINE 1: ... JOIN journeys                                 ON stations.S...\n                                                             ^\nHINT:  Perhaps you meant to reference the column \"stations.Station\".\n\n[SQL: SELECT stations.Neighbourhood, count(journeys.*) as total_journeys                                  FROM stations                                  LEFT JOIN journeys                                 ON stations.Station = journeys.\"start station name\";]\n(Background on this error at: https://sqlalche.me/e/14/f405)",
     "output_type": "error",
     "traceback": [
      "\u001B[0;31m---------------------------------------------------------------------------\u001B[0m",
      "\u001B[0;31mUndefinedColumn\u001B[0m                           Traceback (most recent call last)",
      "File \u001B[0;32m~/.conda/envs/SparkBike/lib/python3.8/site-packages/sqlalchemy/engine/base.py:1900\u001B[0m, in \u001B[0;36mConnection._execute_context\u001B[0;34m(self, dialect, constructor, statement, parameters, execution_options, *args, **kw)\u001B[0m\n\u001B[1;32m   1899\u001B[0m     \u001B[38;5;28;01mif\u001B[39;00m \u001B[38;5;129;01mnot\u001B[39;00m evt_handled:\n\u001B[0;32m-> 1900\u001B[0m         \u001B[38;5;28;43mself\u001B[39;49m\u001B[38;5;241;43m.\u001B[39;49m\u001B[43mdialect\u001B[49m\u001B[38;5;241;43m.\u001B[39;49m\u001B[43mdo_execute\u001B[49m\u001B[43m(\u001B[49m\n\u001B[1;32m   1901\u001B[0m \u001B[43m            \u001B[49m\u001B[43mcursor\u001B[49m\u001B[43m,\u001B[49m\u001B[43m \u001B[49m\u001B[43mstatement\u001B[49m\u001B[43m,\u001B[49m\u001B[43m \u001B[49m\u001B[43mparameters\u001B[49m\u001B[43m,\u001B[49m\u001B[43m \u001B[49m\u001B[43mcontext\u001B[49m\n\u001B[1;32m   1902\u001B[0m \u001B[43m        \u001B[49m\u001B[43m)\u001B[49m\n\u001B[1;32m   1904\u001B[0m \u001B[38;5;28;01mif\u001B[39;00m \u001B[38;5;28mself\u001B[39m\u001B[38;5;241m.\u001B[39m_has_events \u001B[38;5;129;01mor\u001B[39;00m \u001B[38;5;28mself\u001B[39m\u001B[38;5;241m.\u001B[39mengine\u001B[38;5;241m.\u001B[39m_has_events:\n",
      "File \u001B[0;32m~/.conda/envs/SparkBike/lib/python3.8/site-packages/sqlalchemy/engine/default.py:736\u001B[0m, in \u001B[0;36mDefaultDialect.do_execute\u001B[0;34m(self, cursor, statement, parameters, context)\u001B[0m\n\u001B[1;32m    735\u001B[0m \u001B[38;5;28;01mdef\u001B[39;00m \u001B[38;5;21mdo_execute\u001B[39m(\u001B[38;5;28mself\u001B[39m, cursor, statement, parameters, context\u001B[38;5;241m=\u001B[39m\u001B[38;5;28;01mNone\u001B[39;00m):\n\u001B[0;32m--> 736\u001B[0m     \u001B[43mcursor\u001B[49m\u001B[38;5;241;43m.\u001B[39;49m\u001B[43mexecute\u001B[49m\u001B[43m(\u001B[49m\u001B[43mstatement\u001B[49m\u001B[43m,\u001B[49m\u001B[43m \u001B[49m\u001B[43mparameters\u001B[49m\u001B[43m)\u001B[49m\n",
      "\u001B[0;31mUndefinedColumn\u001B[0m: column stations.station does not exist\nLINE 1: ... JOIN journeys                                 ON stations.S...\n                                                             ^\nHINT:  Perhaps you meant to reference the column \"stations.Station\".\n",
      "\nThe above exception was the direct cause of the following exception:\n",
      "\u001B[0;31mProgrammingError\u001B[0m                          Traceback (most recent call last)",
      "Cell \u001B[0;32mIn[14], line 1\u001B[0m\n\u001B[0;32m----> 1\u001B[0m enriched_journeys \u001B[38;5;241m=\u001B[39m \u001B[43mpd\u001B[49m\u001B[38;5;241;43m.\u001B[39;49m\u001B[43mread_sql\u001B[49m\u001B[43m(\u001B[49m\u001B[38;5;124;43m\"\u001B[39;49m\u001B[38;5;124;43mSELECT stations.Neighbourhood, count(journeys.*) as total_journeys \u001B[39;49m\u001B[38;5;130;43;01m\\\u001B[39;49;00m\n\u001B[1;32m      2\u001B[0m \u001B[38;5;124;43m                                 FROM stations \u001B[39;49m\u001B[38;5;130;43;01m\\\u001B[39;49;00m\n\u001B[1;32m      3\u001B[0m \u001B[38;5;124;43m                                 LEFT JOIN journeys \u001B[39;49m\u001B[38;5;130;43;01m\\\u001B[39;49;00m\n\u001B[1;32m      4\u001B[0m \u001B[38;5;124;43m                                ON stations.Station = journeys.\u001B[39;49m\u001B[38;5;130;43;01m\\\"\u001B[39;49;00m\u001B[38;5;124;43mstart station name\u001B[39;49m\u001B[38;5;130;43;01m\\\"\u001B[39;49;00m\u001B[38;5;124;43m;\u001B[39;49m\u001B[38;5;124;43m\"\u001B[39;49m\u001B[43m,\u001B[49m\u001B[43m \u001B[49m\n\u001B[1;32m      5\u001B[0m \u001B[43m                                \u001B[49m\u001B[43mdbConnection\u001B[49m\u001B[43m)\u001B[49m\n",
      "File \u001B[0;32m~/.conda/envs/SparkBike/lib/python3.8/site-packages/pandas/io/sql.py:590\u001B[0m, in \u001B[0;36mread_sql\u001B[0;34m(sql, con, index_col, coerce_float, params, parse_dates, columns, chunksize)\u001B[0m\n\u001B[1;32m    581\u001B[0m     \u001B[38;5;28;01mreturn\u001B[39;00m pandas_sql\u001B[38;5;241m.\u001B[39mread_table(\n\u001B[1;32m    582\u001B[0m         sql,\n\u001B[1;32m    583\u001B[0m         index_col\u001B[38;5;241m=\u001B[39mindex_col,\n\u001B[0;32m   (...)\u001B[0m\n\u001B[1;32m    587\u001B[0m         chunksize\u001B[38;5;241m=\u001B[39mchunksize,\n\u001B[1;32m    588\u001B[0m     )\n\u001B[1;32m    589\u001B[0m \u001B[38;5;28;01melse\u001B[39;00m:\n\u001B[0;32m--> 590\u001B[0m     \u001B[38;5;28;01mreturn\u001B[39;00m \u001B[43mpandas_sql\u001B[49m\u001B[38;5;241;43m.\u001B[39;49m\u001B[43mread_query\u001B[49m\u001B[43m(\u001B[49m\n\u001B[1;32m    591\u001B[0m \u001B[43m        \u001B[49m\u001B[43msql\u001B[49m\u001B[43m,\u001B[49m\n\u001B[1;32m    592\u001B[0m \u001B[43m        \u001B[49m\u001B[43mindex_col\u001B[49m\u001B[38;5;241;43m=\u001B[39;49m\u001B[43mindex_col\u001B[49m\u001B[43m,\u001B[49m\n\u001B[1;32m    593\u001B[0m \u001B[43m        \u001B[49m\u001B[43mparams\u001B[49m\u001B[38;5;241;43m=\u001B[39;49m\u001B[43mparams\u001B[49m\u001B[43m,\u001B[49m\n\u001B[1;32m    594\u001B[0m \u001B[43m        \u001B[49m\u001B[43mcoerce_float\u001B[49m\u001B[38;5;241;43m=\u001B[39;49m\u001B[43mcoerce_float\u001B[49m\u001B[43m,\u001B[49m\n\u001B[1;32m    595\u001B[0m \u001B[43m        \u001B[49m\u001B[43mparse_dates\u001B[49m\u001B[38;5;241;43m=\u001B[39;49m\u001B[43mparse_dates\u001B[49m\u001B[43m,\u001B[49m\n\u001B[1;32m    596\u001B[0m \u001B[43m        \u001B[49m\u001B[43mchunksize\u001B[49m\u001B[38;5;241;43m=\u001B[39;49m\u001B[43mchunksize\u001B[49m\u001B[43m,\u001B[49m\n\u001B[1;32m    597\u001B[0m \u001B[43m    \u001B[49m\u001B[43m)\u001B[49m\n",
      "File \u001B[0;32m~/.conda/envs/SparkBike/lib/python3.8/site-packages/pandas/io/sql.py:1560\u001B[0m, in \u001B[0;36mSQLDatabase.read_query\u001B[0;34m(self, sql, index_col, coerce_float, parse_dates, params, chunksize, dtype)\u001B[0m\n\u001B[1;32m   1512\u001B[0m \u001B[38;5;250m\u001B[39m\u001B[38;5;124;03m\"\"\"\u001B[39;00m\n\u001B[1;32m   1513\u001B[0m \u001B[38;5;124;03mRead SQL query into a DataFrame.\u001B[39;00m\n\u001B[1;32m   1514\u001B[0m \n\u001B[0;32m   (...)\u001B[0m\n\u001B[1;32m   1556\u001B[0m \n\u001B[1;32m   1557\u001B[0m \u001B[38;5;124;03m\"\"\"\u001B[39;00m\n\u001B[1;32m   1558\u001B[0m args \u001B[38;5;241m=\u001B[39m _convert_params(sql, params)\n\u001B[0;32m-> 1560\u001B[0m result \u001B[38;5;241m=\u001B[39m \u001B[38;5;28;43mself\u001B[39;49m\u001B[38;5;241;43m.\u001B[39;49m\u001B[43mexecute\u001B[49m\u001B[43m(\u001B[49m\u001B[38;5;241;43m*\u001B[39;49m\u001B[43margs\u001B[49m\u001B[43m)\u001B[49m\n\u001B[1;32m   1561\u001B[0m columns \u001B[38;5;241m=\u001B[39m result\u001B[38;5;241m.\u001B[39mkeys()\n\u001B[1;32m   1563\u001B[0m \u001B[38;5;28;01mif\u001B[39;00m chunksize \u001B[38;5;129;01mis\u001B[39;00m \u001B[38;5;129;01mnot\u001B[39;00m \u001B[38;5;28;01mNone\u001B[39;00m:\n",
      "File \u001B[0;32m~/.conda/envs/SparkBike/lib/python3.8/site-packages/pandas/io/sql.py:1405\u001B[0m, in \u001B[0;36mSQLDatabase.execute\u001B[0;34m(self, *args, **kwargs)\u001B[0m\n\u001B[1;32m   1403\u001B[0m \u001B[38;5;28;01mdef\u001B[39;00m \u001B[38;5;21mexecute\u001B[39m(\u001B[38;5;28mself\u001B[39m, \u001B[38;5;241m*\u001B[39margs, \u001B[38;5;241m*\u001B[39m\u001B[38;5;241m*\u001B[39mkwargs):\n\u001B[1;32m   1404\u001B[0m \u001B[38;5;250m    \u001B[39m\u001B[38;5;124;03m\"\"\"Simple passthrough to SQLAlchemy connectable\"\"\"\u001B[39;00m\n\u001B[0;32m-> 1405\u001B[0m     \u001B[38;5;28;01mreturn\u001B[39;00m \u001B[38;5;28;43mself\u001B[39;49m\u001B[38;5;241;43m.\u001B[39;49m\u001B[43mconnectable\u001B[49m\u001B[38;5;241;43m.\u001B[39;49m\u001B[43mexecution_options\u001B[49m\u001B[43m(\u001B[49m\u001B[43m)\u001B[49m\u001B[38;5;241;43m.\u001B[39;49m\u001B[43mexecute\u001B[49m\u001B[43m(\u001B[49m\u001B[38;5;241;43m*\u001B[39;49m\u001B[43margs\u001B[49m\u001B[43m,\u001B[49m\u001B[43m \u001B[49m\u001B[38;5;241;43m*\u001B[39;49m\u001B[38;5;241;43m*\u001B[39;49m\u001B[43mkwargs\u001B[49m\u001B[43m)\u001B[49m\n",
      "File \u001B[0;32m~/.conda/envs/SparkBike/lib/python3.8/site-packages/sqlalchemy/engine/base.py:1365\u001B[0m, in \u001B[0;36mConnection.execute\u001B[0;34m(self, statement, *multiparams, **params)\u001B[0m\n\u001B[1;32m   1356\u001B[0m \u001B[38;5;28;01mif\u001B[39;00m \u001B[38;5;28misinstance\u001B[39m(statement, util\u001B[38;5;241m.\u001B[39mstring_types):\n\u001B[1;32m   1357\u001B[0m     util\u001B[38;5;241m.\u001B[39mwarn_deprecated_20(\n\u001B[1;32m   1358\u001B[0m         \u001B[38;5;124m\"\u001B[39m\u001B[38;5;124mPassing a string to Connection.execute() is \u001B[39m\u001B[38;5;124m\"\u001B[39m\n\u001B[1;32m   1359\u001B[0m         \u001B[38;5;124m\"\u001B[39m\u001B[38;5;124mdeprecated and will be removed in version 2.0.  Use the \u001B[39m\u001B[38;5;124m\"\u001B[39m\n\u001B[0;32m   (...)\u001B[0m\n\u001B[1;32m   1362\u001B[0m         \u001B[38;5;124m\"\u001B[39m\u001B[38;5;124mdriver-level SQL string.\u001B[39m\u001B[38;5;124m\"\u001B[39m\n\u001B[1;32m   1363\u001B[0m     )\n\u001B[0;32m-> 1365\u001B[0m     \u001B[38;5;28;01mreturn\u001B[39;00m \u001B[38;5;28;43mself\u001B[39;49m\u001B[38;5;241;43m.\u001B[39;49m\u001B[43m_exec_driver_sql\u001B[49m\u001B[43m(\u001B[49m\n\u001B[1;32m   1366\u001B[0m \u001B[43m        \u001B[49m\u001B[43mstatement\u001B[49m\u001B[43m,\u001B[49m\n\u001B[1;32m   1367\u001B[0m \u001B[43m        \u001B[49m\u001B[43mmultiparams\u001B[49m\u001B[43m,\u001B[49m\n\u001B[1;32m   1368\u001B[0m \u001B[43m        \u001B[49m\u001B[43mparams\u001B[49m\u001B[43m,\u001B[49m\n\u001B[1;32m   1369\u001B[0m \u001B[43m        \u001B[49m\u001B[43m_EMPTY_EXECUTION_OPTS\u001B[49m\u001B[43m,\u001B[49m\n\u001B[1;32m   1370\u001B[0m \u001B[43m        \u001B[49m\u001B[43mfuture\u001B[49m\u001B[38;5;241;43m=\u001B[39;49m\u001B[38;5;28;43;01mFalse\u001B[39;49;00m\u001B[43m,\u001B[49m\n\u001B[1;32m   1371\u001B[0m \u001B[43m    \u001B[49m\u001B[43m)\u001B[49m\n\u001B[1;32m   1373\u001B[0m \u001B[38;5;28;01mtry\u001B[39;00m:\n\u001B[1;32m   1374\u001B[0m     meth \u001B[38;5;241m=\u001B[39m statement\u001B[38;5;241m.\u001B[39m_execute_on_connection\n",
      "File \u001B[0;32m~/.conda/envs/SparkBike/lib/python3.8/site-packages/sqlalchemy/engine/base.py:1669\u001B[0m, in \u001B[0;36mConnection._exec_driver_sql\u001B[0;34m(self, statement, multiparams, params, execution_options, future)\u001B[0m\n\u001B[1;32m   1659\u001B[0m         (\n\u001B[1;32m   1660\u001B[0m             statement,\n\u001B[1;32m   1661\u001B[0m             distilled_params,\n\u001B[0;32m   (...)\u001B[0m\n\u001B[1;32m   1665\u001B[0m             statement, distilled_parameters, execution_options\n\u001B[1;32m   1666\u001B[0m         )\n\u001B[1;32m   1668\u001B[0m dialect \u001B[38;5;241m=\u001B[39m \u001B[38;5;28mself\u001B[39m\u001B[38;5;241m.\u001B[39mdialect\n\u001B[0;32m-> 1669\u001B[0m ret \u001B[38;5;241m=\u001B[39m \u001B[38;5;28;43mself\u001B[39;49m\u001B[38;5;241;43m.\u001B[39;49m\u001B[43m_execute_context\u001B[49m\u001B[43m(\u001B[49m\n\u001B[1;32m   1670\u001B[0m \u001B[43m    \u001B[49m\u001B[43mdialect\u001B[49m\u001B[43m,\u001B[49m\n\u001B[1;32m   1671\u001B[0m \u001B[43m    \u001B[49m\u001B[43mdialect\u001B[49m\u001B[38;5;241;43m.\u001B[39;49m\u001B[43mexecution_ctx_cls\u001B[49m\u001B[38;5;241;43m.\u001B[39;49m\u001B[43m_init_statement\u001B[49m\u001B[43m,\u001B[49m\n\u001B[1;32m   1672\u001B[0m \u001B[43m    \u001B[49m\u001B[43mstatement\u001B[49m\u001B[43m,\u001B[49m\n\u001B[1;32m   1673\u001B[0m \u001B[43m    \u001B[49m\u001B[43mdistilled_parameters\u001B[49m\u001B[43m,\u001B[49m\n\u001B[1;32m   1674\u001B[0m \u001B[43m    \u001B[49m\u001B[43mexecution_options\u001B[49m\u001B[43m,\u001B[49m\n\u001B[1;32m   1675\u001B[0m \u001B[43m    \u001B[49m\u001B[43mstatement\u001B[49m\u001B[43m,\u001B[49m\n\u001B[1;32m   1676\u001B[0m \u001B[43m    \u001B[49m\u001B[43mdistilled_parameters\u001B[49m\u001B[43m,\u001B[49m\n\u001B[1;32m   1677\u001B[0m \u001B[43m\u001B[49m\u001B[43m)\u001B[49m\n\u001B[1;32m   1679\u001B[0m \u001B[38;5;28;01mif\u001B[39;00m \u001B[38;5;129;01mnot\u001B[39;00m future:\n\u001B[1;32m   1680\u001B[0m     \u001B[38;5;28;01mif\u001B[39;00m \u001B[38;5;28mself\u001B[39m\u001B[38;5;241m.\u001B[39m_has_events \u001B[38;5;129;01mor\u001B[39;00m \u001B[38;5;28mself\u001B[39m\u001B[38;5;241m.\u001B[39mengine\u001B[38;5;241m.\u001B[39m_has_events:\n",
      "File \u001B[0;32m~/.conda/envs/SparkBike/lib/python3.8/site-packages/sqlalchemy/engine/base.py:1943\u001B[0m, in \u001B[0;36mConnection._execute_context\u001B[0;34m(self, dialect, constructor, statement, parameters, execution_options, *args, **kw)\u001B[0m\n\u001B[1;32m   1940\u001B[0m             branched\u001B[38;5;241m.\u001B[39mclose()\n\u001B[1;32m   1942\u001B[0m \u001B[38;5;28;01mexcept\u001B[39;00m \u001B[38;5;167;01mBaseException\u001B[39;00m \u001B[38;5;28;01mas\u001B[39;00m e:\n\u001B[0;32m-> 1943\u001B[0m     \u001B[38;5;28;43mself\u001B[39;49m\u001B[38;5;241;43m.\u001B[39;49m\u001B[43m_handle_dbapi_exception\u001B[49m\u001B[43m(\u001B[49m\n\u001B[1;32m   1944\u001B[0m \u001B[43m        \u001B[49m\u001B[43me\u001B[49m\u001B[43m,\u001B[49m\u001B[43m \u001B[49m\u001B[43mstatement\u001B[49m\u001B[43m,\u001B[49m\u001B[43m \u001B[49m\u001B[43mparameters\u001B[49m\u001B[43m,\u001B[49m\u001B[43m \u001B[49m\u001B[43mcursor\u001B[49m\u001B[43m,\u001B[49m\u001B[43m \u001B[49m\u001B[43mcontext\u001B[49m\n\u001B[1;32m   1945\u001B[0m \u001B[43m    \u001B[49m\u001B[43m)\u001B[49m\n\u001B[1;32m   1947\u001B[0m \u001B[38;5;28;01mreturn\u001B[39;00m result\n",
      "File \u001B[0;32m~/.conda/envs/SparkBike/lib/python3.8/site-packages/sqlalchemy/engine/base.py:2124\u001B[0m, in \u001B[0;36mConnection._handle_dbapi_exception\u001B[0;34m(self, e, statement, parameters, cursor, context)\u001B[0m\n\u001B[1;32m   2122\u001B[0m     util\u001B[38;5;241m.\u001B[39mraise_(newraise, with_traceback\u001B[38;5;241m=\u001B[39mexc_info[\u001B[38;5;241m2\u001B[39m], from_\u001B[38;5;241m=\u001B[39me)\n\u001B[1;32m   2123\u001B[0m \u001B[38;5;28;01melif\u001B[39;00m should_wrap:\n\u001B[0;32m-> 2124\u001B[0m     \u001B[43mutil\u001B[49m\u001B[38;5;241;43m.\u001B[39;49m\u001B[43mraise_\u001B[49m\u001B[43m(\u001B[49m\n\u001B[1;32m   2125\u001B[0m \u001B[43m        \u001B[49m\u001B[43msqlalchemy_exception\u001B[49m\u001B[43m,\u001B[49m\u001B[43m \u001B[49m\u001B[43mwith_traceback\u001B[49m\u001B[38;5;241;43m=\u001B[39;49m\u001B[43mexc_info\u001B[49m\u001B[43m[\u001B[49m\u001B[38;5;241;43m2\u001B[39;49m\u001B[43m]\u001B[49m\u001B[43m,\u001B[49m\u001B[43m \u001B[49m\u001B[43mfrom_\u001B[49m\u001B[38;5;241;43m=\u001B[39;49m\u001B[43me\u001B[49m\n\u001B[1;32m   2126\u001B[0m \u001B[43m    \u001B[49m\u001B[43m)\u001B[49m\n\u001B[1;32m   2127\u001B[0m \u001B[38;5;28;01melse\u001B[39;00m:\n\u001B[1;32m   2128\u001B[0m     util\u001B[38;5;241m.\u001B[39mraise_(exc_info[\u001B[38;5;241m1\u001B[39m], with_traceback\u001B[38;5;241m=\u001B[39mexc_info[\u001B[38;5;241m2\u001B[39m])\n",
      "File \u001B[0;32m~/.conda/envs/SparkBike/lib/python3.8/site-packages/sqlalchemy/util/compat.py:211\u001B[0m, in \u001B[0;36mraise_\u001B[0;34m(***failed resolving arguments***)\u001B[0m\n\u001B[1;32m    208\u001B[0m     exception\u001B[38;5;241m.\u001B[39m__cause__ \u001B[38;5;241m=\u001B[39m replace_context\n\u001B[1;32m    210\u001B[0m \u001B[38;5;28;01mtry\u001B[39;00m:\n\u001B[0;32m--> 211\u001B[0m     \u001B[38;5;28;01mraise\u001B[39;00m exception\n\u001B[1;32m    212\u001B[0m \u001B[38;5;28;01mfinally\u001B[39;00m:\n\u001B[1;32m    213\u001B[0m     \u001B[38;5;66;03m# credit to\u001B[39;00m\n\u001B[1;32m    214\u001B[0m     \u001B[38;5;66;03m# https://cosmicpercolator.com/2016/01/13/exception-leaks-in-python-2-and-3/\u001B[39;00m\n\u001B[1;32m    215\u001B[0m     \u001B[38;5;66;03m# as the __traceback__ object creates a cycle\u001B[39;00m\n\u001B[1;32m    216\u001B[0m     \u001B[38;5;28;01mdel\u001B[39;00m exception, replace_context, from_, with_traceback\n",
      "File \u001B[0;32m~/.conda/envs/SparkBike/lib/python3.8/site-packages/sqlalchemy/engine/base.py:1900\u001B[0m, in \u001B[0;36mConnection._execute_context\u001B[0;34m(self, dialect, constructor, statement, parameters, execution_options, *args, **kw)\u001B[0m\n\u001B[1;32m   1898\u001B[0m                 \u001B[38;5;28;01mbreak\u001B[39;00m\n\u001B[1;32m   1899\u001B[0m     \u001B[38;5;28;01mif\u001B[39;00m \u001B[38;5;129;01mnot\u001B[39;00m evt_handled:\n\u001B[0;32m-> 1900\u001B[0m         \u001B[38;5;28;43mself\u001B[39;49m\u001B[38;5;241;43m.\u001B[39;49m\u001B[43mdialect\u001B[49m\u001B[38;5;241;43m.\u001B[39;49m\u001B[43mdo_execute\u001B[49m\u001B[43m(\u001B[49m\n\u001B[1;32m   1901\u001B[0m \u001B[43m            \u001B[49m\u001B[43mcursor\u001B[49m\u001B[43m,\u001B[49m\u001B[43m \u001B[49m\u001B[43mstatement\u001B[49m\u001B[43m,\u001B[49m\u001B[43m \u001B[49m\u001B[43mparameters\u001B[49m\u001B[43m,\u001B[49m\u001B[43m \u001B[49m\u001B[43mcontext\u001B[49m\n\u001B[1;32m   1902\u001B[0m \u001B[43m        \u001B[49m\u001B[43m)\u001B[49m\n\u001B[1;32m   1904\u001B[0m \u001B[38;5;28;01mif\u001B[39;00m \u001B[38;5;28mself\u001B[39m\u001B[38;5;241m.\u001B[39m_has_events \u001B[38;5;129;01mor\u001B[39;00m \u001B[38;5;28mself\u001B[39m\u001B[38;5;241m.\u001B[39mengine\u001B[38;5;241m.\u001B[39m_has_events:\n\u001B[1;32m   1905\u001B[0m     \u001B[38;5;28mself\u001B[39m\u001B[38;5;241m.\u001B[39mdispatch\u001B[38;5;241m.\u001B[39mafter_cursor_execute(\n\u001B[1;32m   1906\u001B[0m         \u001B[38;5;28mself\u001B[39m,\n\u001B[1;32m   1907\u001B[0m         cursor,\n\u001B[0;32m   (...)\u001B[0m\n\u001B[1;32m   1911\u001B[0m         context\u001B[38;5;241m.\u001B[39mexecutemany,\n\u001B[1;32m   1912\u001B[0m     )\n",
      "File \u001B[0;32m~/.conda/envs/SparkBike/lib/python3.8/site-packages/sqlalchemy/engine/default.py:736\u001B[0m, in \u001B[0;36mDefaultDialect.do_execute\u001B[0;34m(self, cursor, statement, parameters, context)\u001B[0m\n\u001B[1;32m    735\u001B[0m \u001B[38;5;28;01mdef\u001B[39;00m \u001B[38;5;21mdo_execute\u001B[39m(\u001B[38;5;28mself\u001B[39m, cursor, statement, parameters, context\u001B[38;5;241m=\u001B[39m\u001B[38;5;28;01mNone\u001B[39;00m):\n\u001B[0;32m--> 736\u001B[0m     \u001B[43mcursor\u001B[49m\u001B[38;5;241;43m.\u001B[39;49m\u001B[43mexecute\u001B[49m\u001B[43m(\u001B[49m\u001B[43mstatement\u001B[49m\u001B[43m,\u001B[49m\u001B[43m \u001B[49m\u001B[43mparameters\u001B[49m\u001B[43m)\u001B[49m\n",
      "\u001B[0;31mProgrammingError\u001B[0m: (psycopg2.errors.UndefinedColumn) column stations.station does not exist\nLINE 1: ... JOIN journeys                                 ON stations.S...\n                                                             ^\nHINT:  Perhaps you meant to reference the column \"stations.Station\".\n\n[SQL: SELECT stations.Neighbourhood, count(journeys.*) as total_journeys                                  FROM stations                                  LEFT JOIN journeys                                 ON stations.Station = journeys.\"start station name\";]\n(Background on this error at: https://sqlalche.me/e/14/f405)"
     ]
    }
   ],
   "source": [
    "enriched_journeys = pd.read_sql(\"SELECT stations.Neighbourhood, count(journeys.*) as total_journeys \\\n",
    "                                 FROM stations \\\n",
    "                                 LEFT JOIN journeys \\\n",
    "                                ON stations.Station = journeys.\\\"start station name\\\";\", \n",
    "                                dbConnection)\n"
   ]
  },
  {
   "cell_type": "code",
   "execution_count": 2,
   "metadata": {
    "collapsed": false,
    "jupyter": {
     "outputs_hidden": false
    },
    "pycharm": {
     "name": "#%%\n"
    }
   },
   "outputs": [
    {
     "data": {
      "text/html": [
       "<div>\n",
       "<style scoped>\n",
       "    .dataframe tbody tr th:only-of-type {\n",
       "        vertical-align: middle;\n",
       "    }\n",
       "\n",
       "    .dataframe tbody tr th {\n",
       "        vertical-align: top;\n",
       "    }\n",
       "\n",
       "    .dataframe thead th {\n",
       "        text-align: right;\n",
       "    }\n",
       "</style>\n",
       "<table border=\"1\" class=\"dataframe\">\n",
       "  <thead>\n",
       "    <tr style=\"text-align: right;\">\n",
       "      <th></th>\n",
       "      <th>?column?</th>\n",
       "    </tr>\n",
       "  </thead>\n",
       "  <tbody>\n",
       "    <tr>\n",
       "      <th>0</th>\n",
       "      <td>1</td>\n",
       "    </tr>\n",
       "    <tr>\n",
       "      <th>1</th>\n",
       "      <td>1</td>\n",
       "    </tr>\n",
       "    <tr>\n",
       "      <th>2</th>\n",
       "      <td>1</td>\n",
       "    </tr>\n",
       "    <tr>\n",
       "      <th>3</th>\n",
       "      <td>1</td>\n",
       "    </tr>\n",
       "    <tr>\n",
       "      <th>4</th>\n",
       "      <td>1</td>\n",
       "    </tr>\n",
       "    <tr>\n",
       "      <th>...</th>\n",
       "      <td>...</td>\n",
       "    </tr>\n",
       "    <tr>\n",
       "      <th>245</th>\n",
       "      <td>1</td>\n",
       "    </tr>\n",
       "    <tr>\n",
       "      <th>246</th>\n",
       "      <td>1</td>\n",
       "    </tr>\n",
       "    <tr>\n",
       "      <th>247</th>\n",
       "      <td>1</td>\n",
       "    </tr>\n",
       "    <tr>\n",
       "      <th>248</th>\n",
       "      <td>1</td>\n",
       "    </tr>\n",
       "    <tr>\n",
       "      <th>249</th>\n",
       "      <td>1</td>\n",
       "    </tr>\n",
       "  </tbody>\n",
       "</table>\n",
       "<p>250 rows × 1 columns</p>\n",
       "</div>"
      ],
      "text/plain": [
       "     ?column?\n",
       "0           1\n",
       "1           1\n",
       "2           1\n",
       "3           1\n",
       "4           1\n",
       "..        ...\n",
       "245         1\n",
       "246         1\n",
       "247         1\n",
       "248         1\n",
       "249         1\n",
       "\n",
       "[250 rows x 1 columns]"
      ]
     },
     "execution_count": 2,
     "metadata": {},
     "output_type": "execute_result"
    }
   ],
   "source": [
    "from sparkbike.sqlconnector import sqlconnector\n",
    "sqlconnector(\"SELECT 1 FROM stations;\")"
   ]
  },
  {
   "cell_type": "markdown",
   "metadata": {},
   "source": [
    "## 2. PyShiny development"
   ]
  },
  {
   "cell_type": "code",
   "execution_count": null,
   "metadata": {
    "collapsed": false,
    "jupyter": {
     "outputs_hidden": false
    },
    "pycharm": {
     "name": "#%%\n"
    }
   },
   "outputs": [],
   "source": [
    "import os\n",
    "os.system('shiny create delta_app')\n"
   ]
  },
  {
   "cell_type": "markdown",
   "metadata": {
    "pycharm": {
     "name": "#%% md\n"
    }
   },
   "source": [
    "## 3. Airflow development\n",
    "- Install Airflow\n",
    "- Then change config to point to local dags setup (this should be part of setup file)\n",
    "- Then launch/create database"
   ]
  }
 ],
 "metadata": {
  "kernelspec": {
   "display_name": "Python 3 (ipykernel)",
   "language": "python",
   "name": "python3"
  },
  "language_info": {
   "codemirror_mode": {
    "name": "ipython",
    "version": 3
   },
   "file_extension": ".py",
   "mimetype": "text/x-python",
   "name": "python",
   "nbconvert_exporter": "python",
   "pygments_lexer": "ipython3",
   "version": "3.8.15"
  }
 },
 "nbformat": 4,
 "nbformat_minor": 4
}